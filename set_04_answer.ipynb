{
 "cells": [
  {
   "cell_type": "code",
   "execution_count": 1,
   "id": "8d55d8c6-8966-4bd9-b1e4-411daefc405d",
   "metadata": {},
   "outputs": [
    {
     "name": "stdout",
     "output_type": "stream",
     "text": [
      "numpy: 2.2.3\n",
      "pandas: 2.2.3\n",
      "scipy: 1.15.2\n",
      "scikit-learn: 1.6.1\n"
     ]
    }
   ],
   "source": [
    "import pkg_resources\n",
    "\n",
    "ls_libs = [\"numpy\", \"pandas\", \"scipy\", \"scikit-learn\"]\n",
    "for n_lib in ls_libs:\n",
    "    vak_ver = pkg_resources.get_distribution(n_lib).version\n",
    "    print(f\"{n_lib}: {vak_ver}\")"
   ]
  },
  {
   "cell_type": "code",
   "execution_count": 2,
   "id": "2710fc2b-6e15-47b3-af52-ce20e8297536",
   "metadata": {},
   "outputs": [],
   "source": [
    "import pandas as pd\n",
    "import numpy as np\n",
    "\n",
    "from sklearn.preprocessing import MinMaxScaler\n",
    "from sklearn.cluster import KMeans\n",
    "from sklearn.metrics import silhouette_score"
   ]
  },
  {
   "attachments": {},
   "cell_type": "markdown",
   "id": "0f5b228f-baae-4426-90bb-9bae87e5c8ae",
   "metadata": {},
   "source": [
    "### Q1. "
   ]
  },
  {
   "cell_type": "code",
   "execution_count": 3,
   "id": "46f5b5db-2820-43ea-8d5c-a38751d5892e",
   "metadata": {},
   "outputs": [
    {
     "data": {
      "text/html": [
       "<div>\n",
       "<style scoped>\n",
       "    .dataframe tbody tr th:only-of-type {\n",
       "        vertical-align: middle;\n",
       "    }\n",
       "\n",
       "    .dataframe tbody tr th {\n",
       "        vertical-align: top;\n",
       "    }\n",
       "\n",
       "    .dataframe thead th {\n",
       "        text-align: right;\n",
       "    }\n",
       "</style>\n",
       "<table border=\"1\" class=\"dataframe\">\n",
       "  <thead>\n",
       "    <tr style=\"text-align: right;\">\n",
       "      <th></th>\n",
       "      <th>user</th>\n",
       "      <th>prod</th>\n",
       "      <th>gender</th>\n",
       "      <th>age_group</th>\n",
       "      <th>job</th>\n",
       "      <th>city</th>\n",
       "      <th>marital</th>\n",
       "      <th>prod_cat1</th>\n",
       "      <th>prod_cat2</th>\n",
       "      <th>prod_cat3</th>\n",
       "      <th>purchase</th>\n",
       "    </tr>\n",
       "  </thead>\n",
       "  <tbody>\n",
       "    <tr>\n",
       "      <th>0</th>\n",
       "      <td>3451</td>\n",
       "      <td>P00375436</td>\n",
       "      <td>F</td>\n",
       "      <td>26-35</td>\n",
       "      <td>11</td>\n",
       "      <td>A</td>\n",
       "      <td>0</td>\n",
       "      <td>20</td>\n",
       "      <td>0</td>\n",
       "      <td>0</td>\n",
       "      <td>595</td>\n",
       "    </tr>\n",
       "    <tr>\n",
       "      <th>1</th>\n",
       "      <td>3829</td>\n",
       "      <td>P00003242</td>\n",
       "      <td>F</td>\n",
       "      <td>26-35</td>\n",
       "      <td>1</td>\n",
       "      <td>B</td>\n",
       "      <td>0</td>\n",
       "      <td>8</td>\n",
       "      <td>15</td>\n",
       "      <td>0</td>\n",
       "      <td>5872</td>\n",
       "    </tr>\n",
       "  </tbody>\n",
       "</table>\n",
       "</div>"
      ],
      "text/plain": [
       "   user       prod gender age_group  job city  marital  prod_cat1  prod_cat2  \\\n",
       "0  3451  P00375436      F     26-35   11    A        0         20          0   \n",
       "1  3829  P00003242      F     26-35    1    B        0          8         15   \n",
       "\n",
       "   prod_cat3  purchase  \n",
       "0          0       595  \n",
       "1          0      5872  "
      ]
     },
     "execution_count": 3,
     "metadata": {},
     "output_type": "execute_result"
    }
   ],
   "source": [
    "df = pd.read_csv(\"set_04_data.csv\")\n",
    "df.head(2)"
   ]
  },
  {
   "cell_type": "code",
   "execution_count": 7,
   "id": "8f2cfcfe-f638-4240-8da8-bccd53d9b075",
   "metadata": {},
   "outputs": [
    {
     "data": {
      "text/plain": [
       "city\n",
       "B    14\n",
       "D     1\n",
       "Name: count, dtype: int64"
      ]
     },
     "execution_count": 7,
     "metadata": {},
     "output_type": "execute_result"
    }
   ],
   "source": [
    "df_u1665 = df.loc[df[\"user\"] == 1665, ]\n",
    "df_u1665[\"city\"].value_counts()"
   ]
  },
  {
   "cell_type": "code",
   "execution_count": 8,
   "id": "93001433-b19d-4457-84f6-aab6f769a9a8",
   "metadata": {},
   "outputs": [
    {
     "data": {
      "text/plain": [
       "2"
      ]
     },
     "execution_count": 8,
     "metadata": {},
     "output_type": "execute_result"
    }
   ],
   "source": [
    "df_u1665[\"city\"].nunique()"
   ]
  },
  {
   "cell_type": "code",
   "execution_count": null,
   "id": "d457c729-c876-4301-bb71-1202389a8ff5",
   "metadata": {},
   "outputs": [],
   "source": [
    "df_g_city_cnt = df.groupby(\"user\")[\"city\"].nunique().reset_index()\n",
    "ser_user_city_plural = df_g_city_cnt.loc[df_g_city_cnt[\"city\"] != 1, \"user\"]\n",
    "ser_user_city_plural.head()"
   ]
  },
  {
   "cell_type": "code",
   "execution_count": 21,
   "id": "0bc9e9da-fe47-4afc-a773-30faa8772bff",
   "metadata": {},
   "outputs": [
    {
     "data": {
      "text/plain": [
       "54201"
      ]
     },
     "execution_count": 21,
     "metadata": {},
     "output_type": "execute_result"
    }
   ],
   "source": [
    "df_q1 = df.loc[~df[\"user\"].isin(ser_user_city_plural), ].reset_index(drop = True)\n",
    "len(df_q1)"
   ]
  },
  {
   "cell_type": "code",
   "execution_count": 22,
   "id": "c287d682-446d-43bd-9484-ca9cb3dfe2ac",
   "metadata": {},
   "outputs": [
    {
     "data": {
      "text/plain": [
       "3142"
      ]
     },
     "execution_count": 22,
     "metadata": {},
     "output_type": "execute_result"
    }
   ],
   "source": [
    "df_q1[\"user\"].nunique()"
   ]
  },
  {
   "cell_type": "code",
   "execution_count": 23,
   "id": "b5196155-28ce-454a-861a-c424a928cbab",
   "metadata": {},
   "outputs": [
    {
     "data": {
      "text/html": [
       "<div>\n",
       "<style scoped>\n",
       "    .dataframe tbody tr th:only-of-type {\n",
       "        vertical-align: middle;\n",
       "    }\n",
       "\n",
       "    .dataframe tbody tr th {\n",
       "        vertical-align: top;\n",
       "    }\n",
       "\n",
       "    .dataframe thead th {\n",
       "        text-align: right;\n",
       "    }\n",
       "</style>\n",
       "<table border=\"1\" class=\"dataframe\">\n",
       "  <thead>\n",
       "    <tr style=\"text-align: right;\">\n",
       "      <th></th>\n",
       "      <th>user</th>\n",
       "      <th>prod</th>\n",
       "      <th>gender</th>\n",
       "      <th>age_group</th>\n",
       "      <th>job</th>\n",
       "      <th>city</th>\n",
       "      <th>marital</th>\n",
       "      <th>prod_cat1</th>\n",
       "      <th>prod_cat2</th>\n",
       "      <th>prod_cat3</th>\n",
       "      <th>purchase</th>\n",
       "    </tr>\n",
       "  </thead>\n",
       "  <tbody>\n",
       "    <tr>\n",
       "      <th>0</th>\n",
       "      <td>5368</td>\n",
       "      <td>P00188442</td>\n",
       "      <td>F</td>\n",
       "      <td>26-35</td>\n",
       "      <td>17</td>\n",
       "      <td>C</td>\n",
       "      <td>0</td>\n",
       "      <td>5</td>\n",
       "      <td>7</td>\n",
       "      <td>0</td>\n",
       "      <td>8617</td>\n",
       "    </tr>\n",
       "  </tbody>\n",
       "</table>\n",
       "</div>"
      ],
      "text/plain": [
       "   user       prod gender age_group  job city  marital  prod_cat1  prod_cat2  \\\n",
       "0  5368  P00188442      F     26-35   17    C        0          5          7   \n",
       "\n",
       "   prod_cat3  purchase  \n",
       "0          0      8617  "
      ]
     },
     "execution_count": 23,
     "metadata": {},
     "output_type": "execute_result"
    }
   ],
   "source": [
    "df_q1.head(1)"
   ]
  },
  {
   "cell_type": "code",
   "execution_count": 26,
   "id": "5d7792bf-52ed-4ed0-8112-5e7c4bc7c702",
   "metadata": {},
   "outputs": [
    {
     "data": {
      "text/plain": [
       "(1869, 552)"
      ]
     },
     "execution_count": 26,
     "metadata": {},
     "output_type": "execute_result"
    }
   ],
   "source": [
    "df_q1_c1 = df_q1.loc[(df_q1[\"job\"] == 20) & (df_q1[\"gender\"] == \"M\"), ] # condition\n",
    "df_q1_c2 = df_q1_c1.loc[df_q1_c1[\"prod_cat1\"] == 5, ] # target\n",
    "len(df_q1_c1), len(df_q1_c2)"
   ]
  },
  {
   "cell_type": "code",
   "execution_count": 28,
   "id": "7dae87d5-7504-4cb4-ada5-86ad2bb78c13",
   "metadata": {},
   "outputs": [
    {
     "data": {
      "text/plain": [
       "0.295"
      ]
     },
     "execution_count": 28,
     "metadata": {},
     "output_type": "execute_result"
    }
   ],
   "source": [
    "round(len(df_q1_c2) / len(df_q1_c1), 3)"
   ]
  },
  {
   "attachments": {},
   "cell_type": "markdown",
   "id": "13481932-824c-4f9c-ae00-42ff8d8bcbf5",
   "metadata": {},
   "source": [
    "### Q2. "
   ]
  },
  {
   "cell_type": "code",
   "execution_count": null,
   "id": "9585f9b4-a15c-4ee6-9a03-a3b11b4476ca",
   "metadata": {},
   "outputs": [],
   "source": [
    "df = pd.read_csv(\"set_04_data.csv\")\n",
    "df.head(2)"
   ]
  },
  {
   "cell_type": "code",
   "execution_count": 32,
   "id": "cf1b881b-595a-46c1-adda-715576dee639",
   "metadata": {},
   "outputs": [
    {
     "data": {
      "text/html": [
       "<div>\n",
       "<style scoped>\n",
       "    .dataframe tbody tr th:only-of-type {\n",
       "        vertical-align: middle;\n",
       "    }\n",
       "\n",
       "    .dataframe tbody tr th {\n",
       "        vertical-align: top;\n",
       "    }\n",
       "\n",
       "    .dataframe thead th {\n",
       "        text-align: right;\n",
       "    }\n",
       "</style>\n",
       "<table border=\"1\" class=\"dataframe\">\n",
       "  <thead>\n",
       "    <tr style=\"text-align: right;\">\n",
       "      <th></th>\n",
       "      <th>prod_cat1</th>\n",
       "      <th>prod_cat2</th>\n",
       "      <th>prod_cat3</th>\n",
       "    </tr>\n",
       "  </thead>\n",
       "  <tbody>\n",
       "    <tr>\n",
       "      <th>0</th>\n",
       "      <td>3</td>\n",
       "      <td>4</td>\n",
       "      <td>12</td>\n",
       "    </tr>\n",
       "    <tr>\n",
       "      <th>1</th>\n",
       "      <td>4</td>\n",
       "      <td>8</td>\n",
       "      <td>9</td>\n",
       "    </tr>\n",
       "  </tbody>\n",
       "</table>\n",
       "</div>"
      ],
      "text/plain": [
       "   prod_cat1  prod_cat2  prod_cat3\n",
       "0          3          4         12\n",
       "1          4          8          9"
      ]
     },
     "execution_count": 32,
     "metadata": {},
     "output_type": "execute_result"
    }
   ],
   "source": [
    "df_u1 = df.loc[df[\"user\"] == 1, [\"prod_cat1\", \"prod_cat2\", \"prod_cat3\"]].reset_index(drop = True)\n",
    "df_u1.head(2)"
   ]
  },
  {
   "cell_type": "code",
   "execution_count": 33,
   "id": "13ed4d83-4478-4b7c-8cef-3038d967bf2b",
   "metadata": {},
   "outputs": [
    {
     "data": {
      "text/plain": [
       "12"
      ]
     },
     "execution_count": 33,
     "metadata": {},
     "output_type": "execute_result"
    }
   ],
   "source": [
    "len(df_u1)"
   ]
  },
  {
   "cell_type": "code",
   "execution_count": null,
   "id": "a603c4a8-fe1d-477d-b3ea-28fed6bd6d77",
   "metadata": {},
   "outputs": [],
   "source": [
    "df_u1.sort_values(df_u1.columns.to_list())"
   ]
  },
  {
   "cell_type": "code",
   "execution_count": 38,
   "id": "79ce3481-5bda-4a3e-a565-454f20ceaa77",
   "metadata": {},
   "outputs": [
    {
     "data": {
      "text/plain": [
       "(9, 3)"
      ]
     },
     "execution_count": 38,
     "metadata": {},
     "output_type": "execute_result"
    }
   ],
   "source": [
    "df_u1.drop_duplicates().shape"
   ]
  },
  {
   "cell_type": "code",
   "execution_count": 43,
   "id": "b3453c31-d1c0-4f79-9863-961c2a46c19f",
   "metadata": {},
   "outputs": [],
   "source": [
    "df_u1[\"prod_cat1\"] = df_u1[\"prod_cat1\"].astype(\"str\")\n",
    "df_u1[\"prod_cat2\"] = df_u1[\"prod_cat2\"].astype(\"str\")\n",
    "df_u1[\"prod_cat3\"] = df_u1[\"prod_cat3\"].astype(\"str\")\n",
    "df_u1[\"prod_cat\"] = df_u1[\"prod_cat1\"] + \"-\" + df_u1[\"prod_cat2\"] + \"-\" + df_u1[\"prod_cat3\"]"
   ]
  },
  {
   "cell_type": "code",
   "execution_count": 44,
   "id": "fc8d6bc5-ce4d-49fb-923b-54e55ff8fdc3",
   "metadata": {},
   "outputs": [
    {
     "data": {
      "text/html": [
       "<div>\n",
       "<style scoped>\n",
       "    .dataframe tbody tr th:only-of-type {\n",
       "        vertical-align: middle;\n",
       "    }\n",
       "\n",
       "    .dataframe tbody tr th {\n",
       "        vertical-align: top;\n",
       "    }\n",
       "\n",
       "    .dataframe thead th {\n",
       "        text-align: right;\n",
       "    }\n",
       "</style>\n",
       "<table border=\"1\" class=\"dataframe\">\n",
       "  <thead>\n",
       "    <tr style=\"text-align: right;\">\n",
       "      <th></th>\n",
       "      <th>prod_cat1</th>\n",
       "      <th>prod_cat2</th>\n",
       "      <th>prod_cat3</th>\n",
       "      <th>prod_cat</th>\n",
       "    </tr>\n",
       "  </thead>\n",
       "  <tbody>\n",
       "    <tr>\n",
       "      <th>0</th>\n",
       "      <td>3</td>\n",
       "      <td>4</td>\n",
       "      <td>12</td>\n",
       "      <td>3-4-12</td>\n",
       "    </tr>\n",
       "    <tr>\n",
       "      <th>1</th>\n",
       "      <td>4</td>\n",
       "      <td>8</td>\n",
       "      <td>9</td>\n",
       "      <td>4-8-9</td>\n",
       "    </tr>\n",
       "  </tbody>\n",
       "</table>\n",
       "</div>"
      ],
      "text/plain": [
       "  prod_cat1 prod_cat2 prod_cat3 prod_cat\n",
       "0         3         4        12   3-4-12\n",
       "1         4         8         9    4-8-9"
      ]
     },
     "execution_count": 44,
     "metadata": {},
     "output_type": "execute_result"
    }
   ],
   "source": [
    "df_u1.head(2)"
   ]
  },
  {
   "cell_type": "code",
   "execution_count": 45,
   "id": "21809903-f44a-4e61-8c05-6aa9660cd0a4",
   "metadata": {},
   "outputs": [
    {
     "data": {
      "text/plain": [
       "9"
      ]
     },
     "execution_count": 45,
     "metadata": {},
     "output_type": "execute_result"
    }
   ],
   "source": [
    "df_u1[\"prod_cat\"].nunique()"
   ]
  },
  {
   "cell_type": "code",
   "execution_count": null,
   "id": "5c53d19e-0626-4d13-b445-c206097aec39",
   "metadata": {},
   "outputs": [],
   "source": [
    "df_q2 = df.loc[df[\"age_group\"] == \"26-35\", [\"user\", \"marital\", \"prod_cat1\", \"prod_cat2\", \"prod_cat3\"]]\n",
    "df_q2 = df_q2.reset_index(drop = True)\n",
    "len(df_q2)"
   ]
  },
  {
   "cell_type": "code",
   "execution_count": 53,
   "id": "2c77f16d-7e60-45eb-916f-fc03833012a3",
   "metadata": {},
   "outputs": [],
   "source": [
    "df_q2[\"prod_cat1\"] = df_q2[\"prod_cat1\"].astype(\"str\")\n",
    "df_q2[\"prod_cat2\"] = df_q2[\"prod_cat2\"].astype(\"str\")\n",
    "df_q2[\"prod_cat3\"] = df_q2[\"prod_cat3\"].astype(\"str\")\n",
    "df_q2[\"prod_cat\" ] = df_q2[\"prod_cat1\"] + \"-\" + df_q2[\"prod_cat2\"] + \"-\" + df_q2[\"prod_cat3\"]"
   ]
  },
  {
   "cell_type": "code",
   "execution_count": null,
   "id": "30baab05-c196-446b-9e7a-a494d1a9ad52",
   "metadata": {},
   "outputs": [],
   "source": [
    "# df_q2_g = df_q2.groupby(\"user\")[\"prod_cat\"].nunique().reset_index()\n",
    "df_q2_g = df_q2.groupby([\"user\", \"marital\"])[\"prod_cat\"].nunique().reset_index()\n",
    "df_q2_g.head()"
   ]
  },
  {
   "cell_type": "code",
   "execution_count": null,
   "id": "c37b2826-a1ed-4cdc-80f3-d3b8c656503d",
   "metadata": {},
   "outputs": [],
   "source": [
    "stat_m0 = df_q2_g.loc[df_q2_g[\"marital\"] == 0, \"prod_cat\"].mean()\n",
    "stat_m1 = df_q2_g.loc[df_q2_g[\"marital\"] == 1, \"prod_cat\"].mean()\n",
    "stat_m0, stat_m1"
   ]
  },
  {
   "cell_type": "code",
   "execution_count": 62,
   "id": "b9c1afbe-48af-4413-8638-2531d9710c73",
   "metadata": {},
   "outputs": [
    {
     "data": {
      "text/plain": [
       "np.float64(0.03)"
      ]
     },
     "execution_count": 62,
     "metadata": {},
     "output_type": "execute_result"
    }
   ],
   "source": [
    "round(abs(stat_m0 - stat_m1), 2)"
   ]
  },
  {
   "attachments": {},
   "cell_type": "markdown",
   "id": "d4cd26bc-4ca9-4807-9df8-41fc45320f38",
   "metadata": {},
   "source": [
    "### Q3."
   ]
  },
  {
   "cell_type": "code",
   "execution_count": 63,
   "id": "76b184ca-9857-4f83-907e-d1683e5f4042",
   "metadata": {},
   "outputs": [
    {
     "data": {
      "text/html": [
       "<div>\n",
       "<style scoped>\n",
       "    .dataframe tbody tr th:only-of-type {\n",
       "        vertical-align: middle;\n",
       "    }\n",
       "\n",
       "    .dataframe tbody tr th {\n",
       "        vertical-align: top;\n",
       "    }\n",
       "\n",
       "    .dataframe thead th {\n",
       "        text-align: right;\n",
       "    }\n",
       "</style>\n",
       "<table border=\"1\" class=\"dataframe\">\n",
       "  <thead>\n",
       "    <tr style=\"text-align: right;\">\n",
       "      <th></th>\n",
       "      <th>user</th>\n",
       "      <th>prod</th>\n",
       "      <th>gender</th>\n",
       "      <th>age_group</th>\n",
       "      <th>job</th>\n",
       "      <th>city</th>\n",
       "      <th>marital</th>\n",
       "      <th>prod_cat1</th>\n",
       "      <th>prod_cat2</th>\n",
       "      <th>prod_cat3</th>\n",
       "      <th>purchase</th>\n",
       "    </tr>\n",
       "  </thead>\n",
       "  <tbody>\n",
       "    <tr>\n",
       "      <th>0</th>\n",
       "      <td>3451</td>\n",
       "      <td>P00375436</td>\n",
       "      <td>F</td>\n",
       "      <td>26-35</td>\n",
       "      <td>11</td>\n",
       "      <td>A</td>\n",
       "      <td>0</td>\n",
       "      <td>20</td>\n",
       "      <td>0</td>\n",
       "      <td>0</td>\n",
       "      <td>595</td>\n",
       "    </tr>\n",
       "    <tr>\n",
       "      <th>1</th>\n",
       "      <td>3829</td>\n",
       "      <td>P00003242</td>\n",
       "      <td>F</td>\n",
       "      <td>26-35</td>\n",
       "      <td>1</td>\n",
       "      <td>B</td>\n",
       "      <td>0</td>\n",
       "      <td>8</td>\n",
       "      <td>15</td>\n",
       "      <td>0</td>\n",
       "      <td>5872</td>\n",
       "    </tr>\n",
       "  </tbody>\n",
       "</table>\n",
       "</div>"
      ],
      "text/plain": [
       "   user       prod gender age_group  job city  marital  prod_cat1  prod_cat2  \\\n",
       "0  3451  P00375436      F     26-35   11    A        0         20          0   \n",
       "1  3829  P00003242      F     26-35    1    B        0          8         15   \n",
       "\n",
       "   prod_cat3  purchase  \n",
       "0          0       595  \n",
       "1          0      5872  "
      ]
     },
     "execution_count": 63,
     "metadata": {},
     "output_type": "execute_result"
    }
   ],
   "source": [
    "df = pd.read_csv(\"set_04_data.csv\")\n",
    "df.head(2)"
   ]
  },
  {
   "cell_type": "code",
   "execution_count": null,
   "id": "21423dc5-0296-418b-ba21-8e533d12a11a",
   "metadata": {},
   "outputs": [],
   "source": [
    "df_g_city_cnt = df.groupby(\"user\")[\"city\"].nunique().reset_index()\n",
    "ser_user_city_plural = df_g_city_cnt.loc[df_g_city_cnt[\"city\"] != 1, \"user\"]\n",
    "df_s1 = df.loc[~df[\"user\"].isin(ser_user_city_plural), ].reset_index(drop = True)"
   ]
  },
  {
   "cell_type": "code",
   "execution_count": 69,
   "id": "8e4ac7ba-923c-42c8-8ef9-bf564c6f0970",
   "metadata": {},
   "outputs": [],
   "source": [
    "df_s2 = df_s1[[\"user\", \"gender\", \"age_group\", \"job\", \"city\", \"marital\"]].drop_duplicates()"
   ]
  },
  {
   "cell_type": "code",
   "execution_count": null,
   "id": "767a736c-ebd7-4d41-8cf2-cb106c86367c",
   "metadata": {},
   "outputs": [],
   "source": [
    "df_s3 = df_s1.groupby(\"user\")[[\"prod\", \"purchase\"]].agg({\"prod\": \"nunique\", \"purchase\": \"sum\"}).reset_index()\n",
    "df_s3.head(2)"
   ]
  },
  {
   "cell_type": "code",
   "execution_count": null,
   "id": "a2e31af5-52dc-4c85-a9d3-5a1deb275256",
   "metadata": {},
   "outputs": [],
   "source": [
    "df_s4 = pd.merge(df_s2, df_s3, on = \"user\")\n",
    "df_s4.head(2)"
   ]
  },
  {
   "cell_type": "code",
   "execution_count": null,
   "id": "ad9f6821-6f57-4696-950f-98b1ea00bcb2",
   "metadata": {},
   "outputs": [],
   "source": [
    "df_s4[\"gender\"] = df_s4[\"gender\"].replace({\"M\": 1, \"F\": 0})"
   ]
  },
  {
   "cell_type": "code",
   "execution_count": null,
   "id": "b29a80ad-5a24-4a18-80b5-c65ced6e5096",
   "metadata": {},
   "outputs": [],
   "source": [
    "# df_s4[\"age_group\"].unique()\n",
    "ser_u = df_s4[\"age_group\"].sort_values().drop_duplicates()\n",
    "ser_repl = pd.Series(range(len(ser_u)), index = ser_u)\n",
    "ser_repl.to_dict()"
   ]
  },
  {
   "cell_type": "code",
   "execution_count": null,
   "id": "755fc174-f8ed-49a5-b7ee-93b0b6be2fc2",
   "metadata": {},
   "outputs": [],
   "source": [
    "df_s4[\"age_group\"] = df_s4[\"age_group\"].replace(ser_repl) # Series 객체도 각 원소 치환 가능"
   ]
  },
  {
   "cell_type": "code",
   "execution_count": 78,
   "id": "760a3dce-315d-44c4-b591-46ddafc5b1ea",
   "metadata": {},
   "outputs": [],
   "source": [
    "df_s5 = df_s4.copy()"
   ]
  },
  {
   "cell_type": "code",
   "execution_count": 80,
   "id": "535d7986-b6fe-442f-a604-37f0fe92ae61",
   "metadata": {},
   "outputs": [
    {
     "data": {
      "text/html": [
       "<div>\n",
       "<style scoped>\n",
       "    .dataframe tbody tr th:only-of-type {\n",
       "        vertical-align: middle;\n",
       "    }\n",
       "\n",
       "    .dataframe tbody tr th {\n",
       "        vertical-align: top;\n",
       "    }\n",
       "\n",
       "    .dataframe thead th {\n",
       "        text-align: right;\n",
       "    }\n",
       "</style>\n",
       "<table border=\"1\" class=\"dataframe\">\n",
       "  <thead>\n",
       "    <tr style=\"text-align: right;\">\n",
       "      <th></th>\n",
       "      <th>gender</th>\n",
       "      <th>age_group</th>\n",
       "      <th>marital</th>\n",
       "      <th>prod</th>\n",
       "      <th>purchase</th>\n",
       "      <th>job_0</th>\n",
       "      <th>job_1</th>\n",
       "      <th>job_2</th>\n",
       "      <th>job_3</th>\n",
       "      <th>job_4</th>\n",
       "      <th>...</th>\n",
       "      <th>job_15</th>\n",
       "      <th>job_16</th>\n",
       "      <th>job_17</th>\n",
       "      <th>job_18</th>\n",
       "      <th>job_19</th>\n",
       "      <th>job_20</th>\n",
       "      <th>city_A</th>\n",
       "      <th>city_B</th>\n",
       "      <th>city_C</th>\n",
       "      <th>city_D</th>\n",
       "    </tr>\n",
       "  </thead>\n",
       "  <tbody>\n",
       "    <tr>\n",
       "      <th>0</th>\n",
       "      <td>0</td>\n",
       "      <td>2</td>\n",
       "      <td>0</td>\n",
       "      <td>14</td>\n",
       "      <td>128695</td>\n",
       "      <td>0</td>\n",
       "      <td>0</td>\n",
       "      <td>0</td>\n",
       "      <td>0</td>\n",
       "      <td>0</td>\n",
       "      <td>...</td>\n",
       "      <td>0</td>\n",
       "      <td>0</td>\n",
       "      <td>1</td>\n",
       "      <td>0</td>\n",
       "      <td>0</td>\n",
       "      <td>0</td>\n",
       "      <td>0</td>\n",
       "      <td>0</td>\n",
       "      <td>1</td>\n",
       "      <td>0</td>\n",
       "    </tr>\n",
       "  </tbody>\n",
       "</table>\n",
       "<p>1 rows × 30 columns</p>\n",
       "</div>"
      ],
      "text/plain": [
       "   gender  age_group  marital  prod  purchase  job_0  job_1  job_2  job_3  \\\n",
       "0       0          2        0    14    128695      0      0      0      0   \n",
       "\n",
       "   job_4  ...  job_15  job_16  job_17  job_18  job_19  job_20  city_A  city_B  \\\n",
       "0      0  ...       0       0       1       0       0       0       0       0   \n",
       "\n",
       "   city_C  city_D  \n",
       "0       1       0  \n",
       "\n",
       "[1 rows x 30 columns]"
      ]
     },
     "execution_count": 80,
     "metadata": {},
     "output_type": "execute_result"
    }
   ],
   "source": [
    "# df_s6 = pd.get_dummies(df_s5, columns = [\"job\", \"city\"]) # 시험버전\n",
    "df_s6 = pd.get_dummies(df_s5, columns = [\"job\", \"city\"], dtype = \"int\")\n",
    "df_s6 = df_s6.drop(columns = \"user\")\n",
    "df_s6.head(1)"
   ]
  },
  {
   "cell_type": "code",
   "execution_count": 81,
   "id": "68189622-57cf-41f8-befd-006ae80fd44b",
   "metadata": {},
   "outputs": [],
   "source": [
    "arr_s7_nor = MinMaxScaler().fit_transform(df_s6)"
   ]
  },
  {
   "cell_type": "code",
   "execution_count": 83,
   "id": "1fdf1f54-3747-4978-9adf-18759230b8ce",
   "metadata": {},
   "outputs": [],
   "source": [
    "# arr_s7_nor[:1, ]"
   ]
  },
  {
   "cell_type": "code",
   "execution_count": null,
   "id": "555fe934-04cd-482a-8f14-ad525f6156d0",
   "metadata": {},
   "outputs": [],
   "source": [
    "model_s8 = KMeans(n_clusters = 7, random_state = 123)\n",
    "model_s8.fit(arr_s7_nor)"
   ]
  },
  {
   "cell_type": "code",
   "execution_count": 88,
   "id": "77a1a8ac-64a8-490b-99ae-dcdd1121cec5",
   "metadata": {},
   "outputs": [
    {
     "data": {
      "text/plain": [
       "np.float64(0.17)"
      ]
     },
     "execution_count": 88,
     "metadata": {},
     "output_type": "execute_result"
    }
   ],
   "source": [
    "round(silhouette_score(arr_s7_nor, labels = model_s8.labels_), 2)"
   ]
  },
  {
   "cell_type": "code",
   "execution_count": null,
   "id": "d77d8275-9c12-4218-9591-42cf77557cf1",
   "metadata": {},
   "outputs": [],
   "source": []
  }
 ],
 "metadata": {
  "kernelspec": {
   "display_name": "Python 3 (ipykernel)",
   "language": "python",
   "name": "python3"
  },
  "language_info": {
   "codemirror_mode": {
    "name": "ipython",
    "version": 3
   },
   "file_extension": ".py",
   "mimetype": "text/x-python",
   "name": "python",
   "nbconvert_exporter": "python",
   "pygments_lexer": "ipython3",
   "version": "3.11.9"
  }
 },
 "nbformat": 4,
 "nbformat_minor": 5
}
