{
 "cells": [
  {
   "cell_type": "code",
   "execution_count": 1,
   "id": "f1759fe6-06f3-4cad-8d06-946bfa30a7c3",
   "metadata": {},
   "outputs": [
    {
     "name": "stdout",
     "output_type": "stream",
     "text": [
      "numpy: 2.2.3\n",
      "pandas: 2.2.3\n",
      "scipy: 1.15.2\n",
      "scikit-learn: 1.6.1\n"
     ]
    }
   ],
   "source": [
    "import pkg_resources\n",
    "\n",
    "ls_libs = [\"numpy\", \"pandas\", \"scipy\", \"scikit-learn\"]\n",
    "for n_lib in ls_libs:\n",
    "    vak_ver = pkg_resources.get_distribution(n_lib).version\n",
    "    print(f\"{n_lib}: {vak_ver}\")"
   ]
  },
  {
   "cell_type": "code",
   "execution_count": 2,
   "id": "da25d47f-b96e-415e-a22e-cec2deb334cf",
   "metadata": {},
   "outputs": [],
   "source": [
    "import pandas as pd\n",
    "import numpy as np\n",
    "\n",
    "from sklearn.preprocessing import MinMaxScaler\n",
    "from sklearn.model_selection import train_test_split\n",
    "from sklearn.linear_model import LogisticRegression\n",
    "from sklearn.metrics import f1_score"
   ]
  },
  {
   "attachments": {},
   "cell_type": "markdown",
   "id": "631dc99b-6973-4b3c-9eef-aa4a2d74c7cd",
   "metadata": {},
   "source": [
    "### Q1."
   ]
  },
  {
   "cell_type": "code",
   "execution_count": 22,
   "id": "f506e009-a084-4370-9dfc-1632d4fdc717",
   "metadata": {},
   "outputs": [
    {
     "data": {
      "text/html": [
       "<div>\n",
       "<style scoped>\n",
       "    .dataframe tbody tr th:only-of-type {\n",
       "        vertical-align: middle;\n",
       "    }\n",
       "\n",
       "    .dataframe tbody tr th {\n",
       "        vertical-align: top;\n",
       "    }\n",
       "\n",
       "    .dataframe thead th {\n",
       "        text-align: right;\n",
       "    }\n",
       "</style>\n",
       "<table border=\"1\" class=\"dataframe\">\n",
       "  <thead>\n",
       "    <tr style=\"text-align: right;\">\n",
       "      <th></th>\n",
       "      <th>customerID</th>\n",
       "      <th>gender</th>\n",
       "      <th>SeniorCitizen</th>\n",
       "      <th>Partner</th>\n",
       "      <th>Dependents</th>\n",
       "      <th>tenure</th>\n",
       "      <th>PhoneService</th>\n",
       "      <th>MultipleLines</th>\n",
       "      <th>InternetService</th>\n",
       "      <th>OnlineSecurity</th>\n",
       "      <th>...</th>\n",
       "      <th>DeviceProtection</th>\n",
       "      <th>TechSupport</th>\n",
       "      <th>StreamingTV</th>\n",
       "      <th>StreamingMovies</th>\n",
       "      <th>Contract</th>\n",
       "      <th>PaperlessBilling</th>\n",
       "      <th>PaymentMethod</th>\n",
       "      <th>MonthlyCharges</th>\n",
       "      <th>TotalCharges</th>\n",
       "      <th>Churn</th>\n",
       "    </tr>\n",
       "  </thead>\n",
       "  <tbody>\n",
       "    <tr>\n",
       "      <th>0</th>\n",
       "      <td>6682-VCIXC</td>\n",
       "      <td>Female</td>\n",
       "      <td>0</td>\n",
       "      <td>Yes</td>\n",
       "      <td>Yes</td>\n",
       "      <td>43</td>\n",
       "      <td>No</td>\n",
       "      <td>No phone service</td>\n",
       "      <td>DSL</td>\n",
       "      <td>Yes</td>\n",
       "      <td>...</td>\n",
       "      <td>No</td>\n",
       "      <td>Yes</td>\n",
       "      <td>Yes</td>\n",
       "      <td>No</td>\n",
       "      <td>One year</td>\n",
       "      <td>Yes</td>\n",
       "      <td>Bank transfer (automatic)</td>\n",
       "      <td>51.25</td>\n",
       "      <td>2151.6</td>\n",
       "      <td>No</td>\n",
       "    </tr>\n",
       "    <tr>\n",
       "      <th>1</th>\n",
       "      <td>2486-WYVVE</td>\n",
       "      <td>Male</td>\n",
       "      <td>0</td>\n",
       "      <td>Yes</td>\n",
       "      <td>No</td>\n",
       "      <td>31</td>\n",
       "      <td>Yes</td>\n",
       "      <td>Yes</td>\n",
       "      <td>DSL</td>\n",
       "      <td>No</td>\n",
       "      <td>...</td>\n",
       "      <td>Yes</td>\n",
       "      <td>Yes</td>\n",
       "      <td>Yes</td>\n",
       "      <td>Yes</td>\n",
       "      <td>One year</td>\n",
       "      <td>Yes</td>\n",
       "      <td>Mailed check</td>\n",
       "      <td>79.30</td>\n",
       "      <td>2484.0</td>\n",
       "      <td>No</td>\n",
       "    </tr>\n",
       "  </tbody>\n",
       "</table>\n",
       "<p>2 rows × 21 columns</p>\n",
       "</div>"
      ],
      "text/plain": [
       "   customerID  gender  SeniorCitizen Partner Dependents  tenure PhoneService  \\\n",
       "0  6682-VCIXC  Female              0     Yes        Yes      43           No   \n",
       "1  2486-WYVVE    Male              0     Yes         No      31          Yes   \n",
       "\n",
       "      MultipleLines InternetService OnlineSecurity  ... DeviceProtection  \\\n",
       "0  No phone service             DSL            Yes  ...               No   \n",
       "1               Yes             DSL             No  ...              Yes   \n",
       "\n",
       "  TechSupport StreamingTV StreamingMovies  Contract PaperlessBilling  \\\n",
       "0         Yes         Yes              No  One year              Yes   \n",
       "1         Yes         Yes             Yes  One year              Yes   \n",
       "\n",
       "               PaymentMethod MonthlyCharges  TotalCharges  Churn  \n",
       "0  Bank transfer (automatic)          51.25        2151.6     No  \n",
       "1               Mailed check          79.30        2484.0     No  \n",
       "\n",
       "[2 rows x 21 columns]"
      ]
     },
     "execution_count": 22,
     "metadata": {},
     "output_type": "execute_result"
    }
   ],
   "source": [
    "df = pd.read_csv(\"set_02_data.csv\")\n",
    "df.head(2)"
   ]
  },
  {
   "cell_type": "code",
   "execution_count": 31,
   "id": "761ed6ec-60a2-4592-9222-1c38ea6be525",
   "metadata": {},
   "outputs": [
    {
     "data": {
      "text/html": [
       "<div>\n",
       "<style scoped>\n",
       "    .dataframe tbody tr th:only-of-type {\n",
       "        vertical-align: middle;\n",
       "    }\n",
       "\n",
       "    .dataframe tbody tr th {\n",
       "        vertical-align: top;\n",
       "    }\n",
       "\n",
       "    .dataframe thead th {\n",
       "        text-align: right;\n",
       "    }\n",
       "</style>\n",
       "<table border=\"1\" class=\"dataframe\">\n",
       "  <thead>\n",
       "    <tr style=\"text-align: right;\">\n",
       "      <th></th>\n",
       "      <th>OnlineSecurity</th>\n",
       "      <th>OnlineBackup</th>\n",
       "      <th>DeviceProtection</th>\n",
       "      <th>TechSupport</th>\n",
       "      <th>StreamingTV</th>\n",
       "      <th>StreamingMovies</th>\n",
       "    </tr>\n",
       "  </thead>\n",
       "  <tbody>\n",
       "    <tr>\n",
       "      <th>1</th>\n",
       "      <td>No</td>\n",
       "      <td>No</td>\n",
       "      <td>Yes</td>\n",
       "      <td>Yes</td>\n",
       "      <td>Yes</td>\n",
       "      <td>Yes</td>\n",
       "    </tr>\n",
       "  </tbody>\n",
       "</table>\n",
       "</div>"
      ],
      "text/plain": [
       "  OnlineSecurity OnlineBackup DeviceProtection TechSupport StreamingTV  \\\n",
       "1             No           No              Yes         Yes         Yes   \n",
       "\n",
       "  StreamingMovies  \n",
       "1             Yes  "
      ]
     },
     "execution_count": 31,
     "metadata": {},
     "output_type": "execute_result"
    }
   ],
   "source": [
    "df_q1 = df.loc[(df[\"gender\"] == \"Male\") & (df[\"SeniorCitizen\"] == 0), \"OnlineSecurity\":\"StreamingMovies\"].copy()\n",
    "df_q1.head(1)"
   ]
  },
  {
   "cell_type": "code",
   "execution_count": null,
   "id": "2bcdbc78-e926-407f-81a3-1fd709cde0d2",
   "metadata": {},
   "outputs": [],
   "source": [
    "# df_q1[\"OnlineSecurity\"].unique()\n",
    "df_q1[\"OnlineBackup\"].unique()"
   ]
  },
  {
   "cell_type": "code",
   "execution_count": null,
   "id": "5b232ea0-e4d6-40df-a2c7-af8718cb578e",
   "metadata": {},
   "outputs": [],
   "source": [
    "# df_q1.unique() # DataFrame에는 .unique() 메서드가 없음\n",
    "# df_q1.drop_duplicates()\n",
    "# df_q1.apply(lambda x: [x.unique()]) # 시험버전, 암기 할 필요 없음\n",
    "df_q1.apply(lambda x: x.unique()) # 최신버전, 암기 할 필요 없음"
   ]
  },
  {
   "cell_type": "code",
   "execution_count": 34,
   "id": "068830a6-8be2-4223-9748-8b33030aef1c",
   "metadata": {},
   "outputs": [],
   "source": [
    "df_q1_sub = df_q1.loc[df_q1[\"OnlineSecurity\"].isin([\"Yes\", \"No\"]), ]\n",
    "# df_q1_sub = df_q1_sub.loc[df_q1[\"OnlineBackup\"].isin([\"Yes\", \"No\"]), ]"
   ]
  },
  {
   "cell_type": "code",
   "execution_count": null,
   "id": "6b68381b-c37b-4934-88f5-7bb7b42107ab",
   "metadata": {},
   "outputs": [],
   "source": [
    "df_q1_sub.apply(lambda x: x.unique())"
   ]
  },
  {
   "cell_type": "code",
   "execution_count": null,
   "id": "befefeeb-b484-4b31-894c-eb5660b06306",
   "metadata": {},
   "outputs": [],
   "source": [
    "df_q1_sub.head()"
   ]
  },
  {
   "cell_type": "code",
   "execution_count": null,
   "id": "5b0e324b-5db2-4623-b98a-c19b62abf828",
   "metadata": {},
   "outputs": [],
   "source": [
    "ser_cnt = df_q1_sub.apply(lambda x: sum(x == \"Yes\"), axis = 1)\n",
    "ser_cnt2 = ser_cnt.value_counts()\n",
    "ser_cnt2"
   ]
  },
  {
   "cell_type": "code",
   "execution_count": 38,
   "id": "7712f94b-7f15-4762-9eb5-35fd3775ea34",
   "metadata": {},
   "outputs": [
    {
     "data": {
      "text/plain": [
       "np.float64(3.288135593220339)"
      ]
     },
     "execution_count": 38,
     "metadata": {},
     "output_type": "execute_result"
    }
   ],
   "source": [
    "ser_cnt2[1] / ser_cnt2[6]"
   ]
  },
  {
   "cell_type": "code",
   "execution_count": 39,
   "id": "3bb7719d-3869-4687-a290-3eb934b22bf9",
   "metadata": {},
   "outputs": [
    {
     "data": {
      "text/plain": [
       "np.float64(3.28)"
      ]
     },
     "execution_count": 39,
     "metadata": {},
     "output_type": "execute_result"
    }
   ],
   "source": [
    "np.floor(ser_cnt2[1] / ser_cnt2[6] * 100) / 100"
   ]
  },
  {
   "attachments": {},
   "cell_type": "markdown",
   "id": "2b0d388f-97ff-4524-af0d-589907020387",
   "metadata": {},
   "source": [
    "### Q2."
   ]
  },
  {
   "cell_type": "code",
   "execution_count": null,
   "id": "151c4e7b-d916-47f0-a2c6-d446b6639420",
   "metadata": {},
   "outputs": [],
   "source": [
    "df = pd.read_csv(\"set_02_data.csv\")\n",
    "df.head(1)"
   ]
  },
  {
   "cell_type": "code",
   "execution_count": null,
   "id": "51a43379-b223-4532-8704-8508c7acc9fe",
   "metadata": {},
   "outputs": [],
   "source": [
    "df[\"PaymentMethod\"].unique()"
   ]
  },
  {
   "cell_type": "code",
   "execution_count": 48,
   "id": "2a821203-20f9-41c9-a8f2-d1a4b2fc647c",
   "metadata": {},
   "outputs": [
    {
     "data": {
      "text/plain": [
       "(6465, 2805, 3660)"
      ]
     },
     "execution_count": 48,
     "metadata": {},
     "output_type": "execute_result"
    }
   ],
   "source": [
    "df_A = df.loc[ df[\"PaymentMethod\"].str.contains(\"automatic\"), [\"tenure\", \"MonthlyCharges\", \"TotalCharges\"]]\n",
    "df_B = df.loc[~df[\"PaymentMethod\"].str.contains(\"automatic\"), [\"tenure\", \"MonthlyCharges\", \"TotalCharges\"]]\n",
    "len(df), len(df_A), len(df_B)"
   ]
  },
  {
   "cell_type": "code",
   "execution_count": 49,
   "id": "432f3d75-f435-4115-8189-7d2951c9ae07",
   "metadata": {},
   "outputs": [],
   "source": [
    "df_A[\"dur\"] = df_A[\"TotalCharges\"] // df_A[\"MonthlyCharges\"]\n",
    "df_B[\"dur\"] = df_B[\"TotalCharges\"] // df_B[\"MonthlyCharges\"]"
   ]
  },
  {
   "cell_type": "code",
   "execution_count": 59,
   "id": "20dbf2ec-406a-48c2-91c8-ab21e7a12093",
   "metadata": {},
   "outputs": [
    {
     "data": {
      "text/plain": [
       "np.float64(0.9985017739420756)"
      ]
     },
     "execution_count": 59,
     "metadata": {},
     "output_type": "execute_result"
    }
   ],
   "source": [
    "# df_A.drop(columns = \"TotalCharges\").corr() # .corr() 은 기본적으로 피어슨 상관분석으로 동작\n",
    "df_A_corr = df_A.iloc[:, [0, 1, 3]].corr()\n",
    "val_A_corr = df_A_corr.replace(1, np.nan).max().max()\n",
    "val_A_corr"
   ]
  },
  {
   "cell_type": "code",
   "execution_count": 60,
   "id": "aa4e2ac2-ccf2-4d6f-b103-4110f44ccb8f",
   "metadata": {},
   "outputs": [
    {
     "data": {
      "text/plain": [
       "np.float64(0.9989839520673992)"
      ]
     },
     "execution_count": 60,
     "metadata": {},
     "output_type": "execute_result"
    }
   ],
   "source": [
    "df_B_corr = df_B.iloc[:, [0, 1, 3]].corr()\n",
    "val_B_corr = df_B_corr.replace(1, np.nan).max().max()\n",
    "val_B_corr"
   ]
  },
  {
   "cell_type": "code",
   "execution_count": 62,
   "id": "394bafe0-39bc-44c3-8887-81936b16e1b6",
   "metadata": {},
   "outputs": [
    {
     "data": {
      "text/plain": [
       "np.float64(0.0005)"
      ]
     },
     "execution_count": 62,
     "metadata": {},
     "output_type": "execute_result"
    }
   ],
   "source": [
    "round(abs(val_A_corr - val_B_corr), 4)"
   ]
  },
  {
   "attachments": {},
   "cell_type": "markdown",
   "id": "e9595e8c-8b88-4594-b0d4-fda18bcec1e5",
   "metadata": {},
   "source": [
    "### Q3."
   ]
  },
  {
   "cell_type": "code",
   "execution_count": 122,
   "id": "c4754afb-eb35-41c9-ad9a-98aa0ac4a0d3",
   "metadata": {},
   "outputs": [
    {
     "data": {
      "text/html": [
       "<div>\n",
       "<style scoped>\n",
       "    .dataframe tbody tr th:only-of-type {\n",
       "        vertical-align: middle;\n",
       "    }\n",
       "\n",
       "    .dataframe tbody tr th {\n",
       "        vertical-align: top;\n",
       "    }\n",
       "\n",
       "    .dataframe thead th {\n",
       "        text-align: right;\n",
       "    }\n",
       "</style>\n",
       "<table border=\"1\" class=\"dataframe\">\n",
       "  <thead>\n",
       "    <tr style=\"text-align: right;\">\n",
       "      <th></th>\n",
       "      <th>customerID</th>\n",
       "      <th>gender</th>\n",
       "      <th>SeniorCitizen</th>\n",
       "      <th>Partner</th>\n",
       "      <th>Dependents</th>\n",
       "      <th>tenure</th>\n",
       "      <th>PhoneService</th>\n",
       "      <th>MultipleLines</th>\n",
       "      <th>InternetService</th>\n",
       "      <th>OnlineSecurity</th>\n",
       "      <th>...</th>\n",
       "      <th>DeviceProtection</th>\n",
       "      <th>TechSupport</th>\n",
       "      <th>StreamingTV</th>\n",
       "      <th>StreamingMovies</th>\n",
       "      <th>Contract</th>\n",
       "      <th>PaperlessBilling</th>\n",
       "      <th>PaymentMethod</th>\n",
       "      <th>MonthlyCharges</th>\n",
       "      <th>TotalCharges</th>\n",
       "      <th>Churn</th>\n",
       "    </tr>\n",
       "  </thead>\n",
       "  <tbody>\n",
       "    <tr>\n",
       "      <th>0</th>\n",
       "      <td>6682-VCIXC</td>\n",
       "      <td>Female</td>\n",
       "      <td>0</td>\n",
       "      <td>Yes</td>\n",
       "      <td>Yes</td>\n",
       "      <td>43</td>\n",
       "      <td>No</td>\n",
       "      <td>No phone service</td>\n",
       "      <td>DSL</td>\n",
       "      <td>Yes</td>\n",
       "      <td>...</td>\n",
       "      <td>No</td>\n",
       "      <td>Yes</td>\n",
       "      <td>Yes</td>\n",
       "      <td>No</td>\n",
       "      <td>One year</td>\n",
       "      <td>Yes</td>\n",
       "      <td>Bank transfer (automatic)</td>\n",
       "      <td>51.25</td>\n",
       "      <td>2151.6</td>\n",
       "      <td>No</td>\n",
       "    </tr>\n",
       "    <tr>\n",
       "      <th>1</th>\n",
       "      <td>2486-WYVVE</td>\n",
       "      <td>Male</td>\n",
       "      <td>0</td>\n",
       "      <td>Yes</td>\n",
       "      <td>No</td>\n",
       "      <td>31</td>\n",
       "      <td>Yes</td>\n",
       "      <td>Yes</td>\n",
       "      <td>DSL</td>\n",
       "      <td>No</td>\n",
       "      <td>...</td>\n",
       "      <td>Yes</td>\n",
       "      <td>Yes</td>\n",
       "      <td>Yes</td>\n",
       "      <td>Yes</td>\n",
       "      <td>One year</td>\n",
       "      <td>Yes</td>\n",
       "      <td>Mailed check</td>\n",
       "      <td>79.30</td>\n",
       "      <td>2484.0</td>\n",
       "      <td>No</td>\n",
       "    </tr>\n",
       "  </tbody>\n",
       "</table>\n",
       "<p>2 rows × 21 columns</p>\n",
       "</div>"
      ],
      "text/plain": [
       "   customerID  gender  SeniorCitizen Partner Dependents  tenure PhoneService  \\\n",
       "0  6682-VCIXC  Female              0     Yes        Yes      43           No   \n",
       "1  2486-WYVVE    Male              0     Yes         No      31          Yes   \n",
       "\n",
       "      MultipleLines InternetService OnlineSecurity  ... DeviceProtection  \\\n",
       "0  No phone service             DSL            Yes  ...               No   \n",
       "1               Yes             DSL             No  ...              Yes   \n",
       "\n",
       "  TechSupport StreamingTV StreamingMovies  Contract PaperlessBilling  \\\n",
       "0         Yes         Yes              No  One year              Yes   \n",
       "1         Yes         Yes             Yes  One year              Yes   \n",
       "\n",
       "               PaymentMethod MonthlyCharges  TotalCharges  Churn  \n",
       "0  Bank transfer (automatic)          51.25        2151.6     No  \n",
       "1               Mailed check          79.30        2484.0     No  \n",
       "\n",
       "[2 rows x 21 columns]"
      ]
     },
     "execution_count": 122,
     "metadata": {},
     "output_type": "execute_result"
    }
   ],
   "source": [
    "df = pd.read_csv(\"set_02_data.csv\")\n",
    "df.head(2)"
   ]
  },
  {
   "cell_type": "code",
   "execution_count": 123,
   "id": "966480f9-bd63-46e7-8813-467f6702abf9",
   "metadata": {},
   "outputs": [],
   "source": [
    "ls_x1 = [\"SeniorCitizen\", \"Partner\", \"Dependents\", \"tenure\", \"MonthlyCharges\", \"TotalCharges\"]\n",
    "ls_x2 = [\"OnlineSecurity\", \"OnlineBackup\", \"DeviceProtection\", \"TechSupport\", \"StreamingMovies\", \"PaperlessBilling\"]\n",
    "df_q3 = df[[\"customerID\", \"Churn\"] + ls_x1 + ls_x2].copy()"
   ]
  },
  {
   "cell_type": "code",
   "execution_count": 124,
   "id": "9eb99d7f-82ed-42a4-9c21-5ab09d4132dc",
   "metadata": {},
   "outputs": [
    {
     "name": "stderr",
     "output_type": "stream",
     "text": [
      "C:\\Users\\PC\\AppData\\Local\\Temp\\ipykernel_25588\\3322953265.py:1: FutureWarning: Downcasting behavior in `replace` is deprecated and will be removed in a future version. To retain the old behavior, explicitly call `result.infer_objects(copy=False)`. To opt-in to the future behavior, set `pd.set_option('future.no_silent_downcasting', True)`\n",
      "  df_q3 = df_q3.replace({\"Yes\": 1, \"No\": 0})\n"
     ]
    }
   ],
   "source": [
    "df_q3 = df_q3.replace({\"Yes\": 1, \"No\": 0})"
   ]
  },
  {
   "cell_type": "code",
   "execution_count": 125,
   "id": "46aa83f1-f4f4-4833-902a-6ae6d74a59e4",
   "metadata": {},
   "outputs": [
    {
     "data": {
      "text/html": [
       "<div>\n",
       "<style scoped>\n",
       "    .dataframe tbody tr th:only-of-type {\n",
       "        vertical-align: middle;\n",
       "    }\n",
       "\n",
       "    .dataframe tbody tr th {\n",
       "        vertical-align: top;\n",
       "    }\n",
       "\n",
       "    .dataframe thead th {\n",
       "        text-align: right;\n",
       "    }\n",
       "</style>\n",
       "<table border=\"1\" class=\"dataframe\">\n",
       "  <thead>\n",
       "    <tr style=\"text-align: right;\">\n",
       "      <th></th>\n",
       "      <th>customerID</th>\n",
       "      <th>Churn</th>\n",
       "      <th>SeniorCitizen</th>\n",
       "      <th>Partner</th>\n",
       "      <th>Dependents</th>\n",
       "      <th>tenure</th>\n",
       "      <th>MonthlyCharges</th>\n",
       "      <th>TotalCharges</th>\n",
       "      <th>OnlineSecurity</th>\n",
       "      <th>OnlineBackup</th>\n",
       "      <th>DeviceProtection</th>\n",
       "      <th>TechSupport</th>\n",
       "      <th>StreamingMovies</th>\n",
       "      <th>PaperlessBilling</th>\n",
       "    </tr>\n",
       "  </thead>\n",
       "  <tbody>\n",
       "    <tr>\n",
       "      <th>0</th>\n",
       "      <td>6682-VCIXC</td>\n",
       "      <td>0</td>\n",
       "      <td>0</td>\n",
       "      <td>1</td>\n",
       "      <td>1</td>\n",
       "      <td>43</td>\n",
       "      <td>51.25</td>\n",
       "      <td>2151.6</td>\n",
       "      <td>1</td>\n",
       "      <td>1</td>\n",
       "      <td>0</td>\n",
       "      <td>1</td>\n",
       "      <td>0</td>\n",
       "      <td>1</td>\n",
       "    </tr>\n",
       "    <tr>\n",
       "      <th>1</th>\n",
       "      <td>2486-WYVVE</td>\n",
       "      <td>0</td>\n",
       "      <td>0</td>\n",
       "      <td>1</td>\n",
       "      <td>0</td>\n",
       "      <td>31</td>\n",
       "      <td>79.30</td>\n",
       "      <td>2484.0</td>\n",
       "      <td>0</td>\n",
       "      <td>0</td>\n",
       "      <td>1</td>\n",
       "      <td>1</td>\n",
       "      <td>1</td>\n",
       "      <td>1</td>\n",
       "    </tr>\n",
       "  </tbody>\n",
       "</table>\n",
       "</div>"
      ],
      "text/plain": [
       "   customerID  Churn  SeniorCitizen  Partner  Dependents  tenure  \\\n",
       "0  6682-VCIXC      0              0        1           1      43   \n",
       "1  2486-WYVVE      0              0        1           0      31   \n",
       "\n",
       "   MonthlyCharges  TotalCharges OnlineSecurity OnlineBackup DeviceProtection  \\\n",
       "0           51.25        2151.6              1            1                0   \n",
       "1           79.30        2484.0              0            0                1   \n",
       "\n",
       "  TechSupport StreamingMovies  PaperlessBilling  \n",
       "0           1               0                 1  \n",
       "1           1               1                 1  "
      ]
     },
     "execution_count": 125,
     "metadata": {},
     "output_type": "execute_result"
    }
   ],
   "source": [
    "df_q3.head(2)"
   ]
  },
  {
   "cell_type": "code",
   "execution_count": 126,
   "id": "eea6407c-fb1e-4c29-ac2d-78bcb3dae1a2",
   "metadata": {},
   "outputs": [
    {
     "data": {
      "text/html": [
       "<div>\n",
       "<style scoped>\n",
       "    .dataframe tbody tr th:only-of-type {\n",
       "        vertical-align: middle;\n",
       "    }\n",
       "\n",
       "    .dataframe tbody tr th {\n",
       "        vertical-align: top;\n",
       "    }\n",
       "\n",
       "    .dataframe thead th {\n",
       "        text-align: right;\n",
       "    }\n",
       "</style>\n",
       "<table border=\"1\" class=\"dataframe\">\n",
       "  <thead>\n",
       "    <tr style=\"text-align: right;\">\n",
       "      <th></th>\n",
       "      <th>customerID</th>\n",
       "      <th>OnlineSecurity</th>\n",
       "      <th>OnlineBackup</th>\n",
       "      <th>DeviceProtection</th>\n",
       "      <th>TechSupport</th>\n",
       "      <th>StreamingMovies</th>\n",
       "    </tr>\n",
       "  </thead>\n",
       "  <tbody>\n",
       "    <tr>\n",
       "      <th>0</th>\n",
       "      <td>6682-VCIXC</td>\n",
       "      <td>1</td>\n",
       "      <td>1</td>\n",
       "      <td>0</td>\n",
       "      <td>1</td>\n",
       "      <td>0</td>\n",
       "    </tr>\n",
       "    <tr>\n",
       "      <th>1</th>\n",
       "      <td>2486-WYVVE</td>\n",
       "      <td>0</td>\n",
       "      <td>0</td>\n",
       "      <td>1</td>\n",
       "      <td>1</td>\n",
       "      <td>1</td>\n",
       "    </tr>\n",
       "  </tbody>\n",
       "</table>\n",
       "</div>"
      ],
      "text/plain": [
       "   customerID OnlineSecurity OnlineBackup DeviceProtection TechSupport  \\\n",
       "0  6682-VCIXC              1            1                0           1   \n",
       "1  2486-WYVVE              0            0                1           1   \n",
       "\n",
       "  StreamingMovies  \n",
       "0               0  \n",
       "1               1  "
      ]
     },
     "execution_count": 126,
     "metadata": {},
     "output_type": "execute_result"
    }
   ],
   "source": [
    "# df_q3_obj = df_q3.select_dtypes(include = \"object\")\n",
    "df_q3_obj = df_q3.loc[:, df_q3.dtypes == \"object\"] # 시험버전\n",
    "df_q3_obj.head(2)"
   ]
  },
  {
   "cell_type": "code",
   "execution_count": null,
   "id": "b2668e3c-d968-4268-8983-777354f05530",
   "metadata": {},
   "outputs": [],
   "source": [
    "df_q3_obj.iloc[:, 1:].apply(lambda x: x.unique())"
   ]
  },
  {
   "cell_type": "code",
   "execution_count": null,
   "id": "2e69ff4d-361a-4604-835d-0d8b0c4984ff",
   "metadata": {},
   "outputs": [],
   "source": [
    "df_q3 = df_q3.replace({\"Pending\": -1, \"No internet service\": -1, \"Under despute\": -1})"
   ]
  },
  {
   "cell_type": "code",
   "execution_count": 88,
   "id": "eea8a502-600d-4c01-843d-a86475b3b14e",
   "metadata": {},
   "outputs": [
    {
     "data": {
      "text/html": [
       "<div>\n",
       "<style scoped>\n",
       "    .dataframe tbody tr th:only-of-type {\n",
       "        vertical-align: middle;\n",
       "    }\n",
       "\n",
       "    .dataframe tbody tr th {\n",
       "        vertical-align: top;\n",
       "    }\n",
       "\n",
       "    .dataframe thead th {\n",
       "        text-align: right;\n",
       "    }\n",
       "</style>\n",
       "<table border=\"1\" class=\"dataframe\">\n",
       "  <thead>\n",
       "    <tr style=\"text-align: right;\">\n",
       "      <th></th>\n",
       "      <th>0</th>\n",
       "      <th>1</th>\n",
       "    </tr>\n",
       "  </thead>\n",
       "  <tbody>\n",
       "    <tr>\n",
       "      <th>0</th>\n",
       "      <td>6682</td>\n",
       "      <td>VCIXC</td>\n",
       "    </tr>\n",
       "    <tr>\n",
       "      <th>1</th>\n",
       "      <td>2486</td>\n",
       "      <td>WYVVE</td>\n",
       "    </tr>\n",
       "  </tbody>\n",
       "</table>\n",
       "</div>"
      ],
      "text/plain": [
       "      0      1\n",
       "0  6682  VCIXC\n",
       "1  2486  WYVVE"
      ]
     },
     "execution_count": 88,
     "metadata": {},
     "output_type": "execute_result"
    }
   ],
   "source": [
    "df_q3_id = df_q3[\"customerID\"].str.split(\"-\", expand = True)\n",
    "df_q3_id.head(2)"
   ]
  },
  {
   "cell_type": "code",
   "execution_count": 114,
   "id": "eba0d3bc-db02-49f1-b010-4aa85d2dfc6a",
   "metadata": {},
   "outputs": [],
   "source": [
    "df_train = df_q3.loc[(df_q3_id[0].astype(\"int\") % 4) != 0, ].reset_index(drop = True)\n",
    "df_test  = df_q3.loc[(df_q3_id[0].astype(\"int\") % 4) == 0, ].reset_index(drop = True)"
   ]
  },
  {
   "cell_type": "code",
   "execution_count": 96,
   "id": "ac94a4eb-3540-4f26-a409-c267a9e20e3b",
   "metadata": {},
   "outputs": [
    {
     "data": {
      "text/plain": [
       "(4832, 1633)"
      ]
     },
     "execution_count": 96,
     "metadata": {},
     "output_type": "execute_result"
    }
   ],
   "source": [
    "len(df_train), len(df_test)"
   ]
  },
  {
   "cell_type": "code",
   "execution_count": 98,
   "id": "cc6a2ced-3303-49fd-857e-0aae48a11559",
   "metadata": {},
   "outputs": [],
   "source": [
    "df_train_num = df_train.loc[:, \"SeniorCitizen\":\"TotalCharges\"]\n",
    "df_test_num = df_test.loc[:, \"SeniorCitizen\":\"TotalCharges\"]"
   ]
  },
  {
   "cell_type": "code",
   "execution_count": 101,
   "id": "c5858940-7d40-424e-8360-90438659675d",
   "metadata": {},
   "outputs": [],
   "source": [
    "model_nor = MinMaxScaler().fit(df_train_num)\n",
    "arr_train_num_nor = model_nor.transform(df_train_num)\n",
    "arr_test_num_nor = model_nor.transform(df_test_num)"
   ]
  },
  {
   "cell_type": "code",
   "execution_count": 106,
   "id": "e18a194f-869c-43c1-84f7-eefda8493c8a",
   "metadata": {},
   "outputs": [],
   "source": [
    "df_train_num_nor = pd.DataFrame(arr_train_num_nor, columns = df_train_num.columns)\n",
    "df_test_num_nor  = pd.DataFrame(arr_test_num_nor, columns = df_test_num.columns)"
   ]
  },
  {
   "cell_type": "code",
   "execution_count": 116,
   "id": "fab85998-6071-4b0c-b747-094856ef9ba8",
   "metadata": {},
   "outputs": [],
   "source": [
    "df_train_X = pd.concat([df_train_num_nor, df_train.loc[:, \"OnlineSecurity\":]], axis = 1)\n",
    "df_test_X  = pd.concat([df_test_num_nor,  df_test.loc[:,  \"OnlineSecurity\":]], axis = 1)"
   ]
  },
  {
   "cell_type": "code",
   "execution_count": 119,
   "id": "f9c87f24-b048-45cb-9a69-807b4b497a3c",
   "metadata": {},
   "outputs": [],
   "source": [
    "model_lr = LogisticRegression(random_state = 123)\n",
    "model_lr.fit(X = df_train_X, \n",
    "             y = df_train[\"Churn\"])\n",
    "pred = model_lr.predict(df_test_X)"
   ]
  },
  {
   "cell_type": "code",
   "execution_count": 121,
   "id": "5c749655-4c29-49a5-816d-2a4ecbbbb405",
   "metadata": {},
   "outputs": [
    {
     "data": {
      "text/plain": [
       "0.58"
      ]
     },
     "execution_count": 121,
     "metadata": {},
     "output_type": "execute_result"
    }
   ],
   "source": [
    "round(f1_score(y_true = df_test[\"Churn\"], y_pred = pred), 2)"
   ]
  },
  {
   "cell_type": "code",
   "execution_count": null,
   "id": "e93b31d0-02bc-46b5-bb1f-98858be7ba8e",
   "metadata": {},
   "outputs": [],
   "source": []
  }
 ],
 "metadata": {
  "kernelspec": {
   "display_name": "Python 3 (ipykernel)",
   "language": "python",
   "name": "python3"
  },
  "language_info": {
   "codemirror_mode": {
    "name": "ipython",
    "version": 3
   },
   "file_extension": ".py",
   "mimetype": "text/x-python",
   "name": "python",
   "nbconvert_exporter": "python",
   "pygments_lexer": "ipython3",
   "version": "3.11.9"
  }
 },
 "nbformat": 4,
 "nbformat_minor": 5
}
