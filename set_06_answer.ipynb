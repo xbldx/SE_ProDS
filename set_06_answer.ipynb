{
 "cells": [
  {
   "cell_type": "code",
   "execution_count": 1,
   "id": "d577027b-527c-44a9-89af-f19785bcad40",
   "metadata": {},
   "outputs": [
    {
     "name": "stdout",
     "output_type": "stream",
     "text": [
      "numpy: 2.2.3\n",
      "pandas: 2.2.3\n",
      "scipy: 1.15.2\n",
      "scikit-learn: 1.6.1\n"
     ]
    }
   ],
   "source": [
    "import pkg_resources\n",
    "\n",
    "ls_libs = [\"numpy\", \"pandas\", \"scipy\", \"scikit-learn\"]\n",
    "for n_lib in ls_libs:\n",
    "    vak_ver = pkg_resources.get_distribution(n_lib).version\n",
    "    print(f\"{n_lib}: {vak_ver}\")"
   ]
  },
  {
   "cell_type": "code",
   "execution_count": 2,
   "id": "a8430204-5c05-4285-b008-86b411c502c6",
   "metadata": {},
   "outputs": [],
   "source": [
    "import pandas as pd\n",
    "import numpy as np\n",
    "\n",
    "from sklearn.linear_model import LogisticRegression\n",
    "from sklearn.neighbors import KNeighborsClassifier"
   ]
  },
  {
   "cell_type": "markdown",
   "id": "c7f43704-45d0-48b8-bec5-dc8617a703e3",
   "metadata": {},
   "source": [
    "### 전처리"
   ]
  },
  {
   "cell_type": "code",
   "execution_count": 3,
   "id": "91908d22-87be-4ffa-92fe-e4d255ca51e2",
   "metadata": {},
   "outputs": [
    {
     "data": {
      "text/html": [
       "<div>\n",
       "<style scoped>\n",
       "    .dataframe tbody tr th:only-of-type {\n",
       "        vertical-align: middle;\n",
       "    }\n",
       "\n",
       "    .dataframe tbody tr th {\n",
       "        vertical-align: top;\n",
       "    }\n",
       "\n",
       "    .dataframe thead th {\n",
       "        text-align: right;\n",
       "    }\n",
       "</style>\n",
       "<table border=\"1\" class=\"dataframe\">\n",
       "  <thead>\n",
       "    <tr style=\"text-align: right;\">\n",
       "      <th></th>\n",
       "      <th>enrollee_id</th>\n",
       "      <th>city</th>\n",
       "      <th>city_development_index</th>\n",
       "      <th>gender</th>\n",
       "      <th>relevant_exp</th>\n",
       "      <th>enrolled_university</th>\n",
       "      <th>edu_level</th>\n",
       "      <th>major_discipline</th>\n",
       "      <th>exp</th>\n",
       "      <th>company_size</th>\n",
       "      <th>company_type</th>\n",
       "      <th>last_new_job</th>\n",
       "      <th>training_hours</th>\n",
       "      <th>target</th>\n",
       "      <th>Xgrp</th>\n",
       "    </tr>\n",
       "  </thead>\n",
       "  <tbody>\n",
       "    <tr>\n",
       "      <th>0</th>\n",
       "      <td>8949</td>\n",
       "      <td>city_103</td>\n",
       "      <td>0.920</td>\n",
       "      <td>Male</td>\n",
       "      <td>Has</td>\n",
       "      <td>no_enrollment</td>\n",
       "      <td>Graduate</td>\n",
       "      <td>STEM</td>\n",
       "      <td>&gt;20</td>\n",
       "      <td>NaN</td>\n",
       "      <td>NaN</td>\n",
       "      <td>1</td>\n",
       "      <td>36.0</td>\n",
       "      <td>1</td>\n",
       "      <td>train</td>\n",
       "    </tr>\n",
       "    <tr>\n",
       "      <th>1</th>\n",
       "      <td>29725</td>\n",
       "      <td>city_40</td>\n",
       "      <td>0.776</td>\n",
       "      <td>Male</td>\n",
       "      <td>No</td>\n",
       "      <td>no_enrollment</td>\n",
       "      <td>Graduate</td>\n",
       "      <td>STEM</td>\n",
       "      <td>15</td>\n",
       "      <td>50-99</td>\n",
       "      <td>Pvt Ltd</td>\n",
       "      <td>&gt;4</td>\n",
       "      <td>47.0</td>\n",
       "      <td>0</td>\n",
       "      <td>train</td>\n",
       "    </tr>\n",
       "  </tbody>\n",
       "</table>\n",
       "</div>"
      ],
      "text/plain": [
       "   enrollee_id      city  city_development_index gender relevant_exp  \\\n",
       "0         8949  city_103                   0.920   Male          Has   \n",
       "1        29725   city_40                   0.776   Male           No   \n",
       "\n",
       "  enrolled_university edu_level major_discipline  exp company_size  \\\n",
       "0       no_enrollment  Graduate             STEM  >20          NaN   \n",
       "1       no_enrollment  Graduate             STEM   15        50-99   \n",
       "\n",
       "  company_type last_new_job  training_hours  target   Xgrp  \n",
       "0          NaN            1            36.0       1  train  \n",
       "1      Pvt Ltd           >4            47.0       0  train  "
      ]
     },
     "execution_count": 3,
     "metadata": {},
     "output_type": "execute_result"
    }
   ],
   "source": [
    "df = pd.read_csv(\"set_06_data.csv\")\n",
    "df.head(2)"
   ]
  },
  {
   "cell_type": "code",
   "execution_count": 4,
   "id": "3c9d7f66-cf65-4546-9e3c-52ef269f4581",
   "metadata": {},
   "outputs": [],
   "source": [
    "df_s1 = df.drop(columns = [\"city\", \"company_size\", \"company_type\"])"
   ]
  },
  {
   "cell_type": "code",
   "execution_count": null,
   "id": "500d1ec2-ce81-4a7a-b5bd-16c01705dca5",
   "metadata": {},
   "outputs": [],
   "source": [
    "pd.DataFrame(dict(t = df_s1.dtypes, c = df_s1.isna().sum()))"
   ]
  },
  {
   "cell_type": "code",
   "execution_count": 9,
   "id": "4f533944-6861-4bef-b9cb-cf8c51794c05",
   "metadata": {},
   "outputs": [],
   "source": [
    "df_s2 = df_s1.dropna()"
   ]
  },
  {
   "cell_type": "code",
   "execution_count": null,
   "id": "984a10e2-e0c0-4f7e-8bf5-e7aee1b7a860",
   "metadata": {},
   "outputs": [],
   "source": [
    "df_s3 = df_s2.loc[~df_s2[\"exp\"].isin([\">20\", \"<1\"]), ]\n",
    "df_s3[\"exp\"] = df_s3[\"exp\"].astype(\"int\")"
   ]
  },
  {
   "cell_type": "code",
   "execution_count": null,
   "id": "ce2b2d52-8689-49e1-abe0-498bf9ba4f21",
   "metadata": {},
   "outputs": [],
   "source": [
    "df_s4 = df_s3.loc[~df_s3[\"last_new_job\"].isin([\">4\", \"never\"]), ]\n",
    "df_s4[\"last_new_job\"] = df_s4[\"last_new_job\"].astype(\"int\")"
   ]
  },
  {
   "cell_type": "code",
   "execution_count": 13,
   "id": "790a6a4f-ca9a-4073-baf0-023d7a239356",
   "metadata": {},
   "outputs": [],
   "source": [
    "df_base = df_s4.reset_index(drop = True)"
   ]
  },
  {
   "cell_type": "code",
   "execution_count": 14,
   "id": "f5ae9609-e3d0-4580-80a2-5c187b3dbd47",
   "metadata": {},
   "outputs": [
    {
     "data": {
      "text/plain": [
       "7522"
      ]
     },
     "execution_count": 14,
     "metadata": {},
     "output_type": "execute_result"
    }
   ],
   "source": [
    "len(df_base)"
   ]
  },
  {
   "attachments": {},
   "cell_type": "markdown",
   "id": "fbb4584e-4b1d-4942-b1e4-629faa2bc82a",
   "metadata": {},
   "source": [
    "### Q1."
   ]
  },
  {
   "cell_type": "code",
   "execution_count": null,
   "id": "fbf7ddfd-e88e-4592-907a-9e2adaab6c1e",
   "metadata": {},
   "outputs": [],
   "source": [
    "df_q1 = df_base.loc[df_base[\"edu_level\"].isin([\"Masters\", \"Phd\"]), [\"relevant_exp\", \"target\"]]\n",
    "df_q1.head(2)"
   ]
  },
  {
   "cell_type": "code",
   "execution_count": null,
   "id": "4f9d6d32-07f7-46cf-9138-0e6d62ca36a2",
   "metadata": {},
   "outputs": [],
   "source": [
    "df_q1_A = df_q1.loc[df_q1[\"relevant_exp\"] == \"No\", ]\n",
    "df_q1_B = df_q1.loc[df_q1[\"relevant_exp\"] == \"Has\", ]\n",
    "len(df_q1_A), len(df_q1_B)"
   ]
  },
  {
   "cell_type": "code",
   "execution_count": null,
   "id": "23517a05-c061-4b65-bd03-8d5a29cd6d1a",
   "metadata": {},
   "outputs": [],
   "source": [
    "stat_A = df_q1_A[\"target\"].value_counts(normalize = True)[1]\n",
    "stat_B = df_q1_B[\"target\"].value_counts(normalize = True)[1]\n",
    "stat_A, stat_B"
   ]
  },
  {
   "cell_type": "code",
   "execution_count": null,
   "id": "ee43456e-d2e2-416d-8109-a01e9ae56740",
   "metadata": {},
   "outputs": [],
   "source": [
    "round(stat_A / stat_B, 2)"
   ]
  },
  {
   "cell_type": "code",
   "execution_count": 25,
   "id": "9d363ed2-1324-4fa7-83a3-8a090ec31905",
   "metadata": {},
   "outputs": [
    {
     "data": {
      "text/plain": [
       "relevant_exp\n",
       "Has    0.177343\n",
       "No     0.281421\n",
       "Name: target, dtype: float64"
      ]
     },
     "execution_count": 25,
     "metadata": {},
     "output_type": "execute_result"
    }
   ],
   "source": [
    "df_q1.groupby(\"relevant_exp\")[\"target\"].mean()"
   ]
  },
  {
   "attachments": {},
   "cell_type": "markdown",
   "id": "012aaa6f-4f04-4b7a-aff9-251ffec2bbd5",
   "metadata": {},
   "source": [
    "### Q2."
   ]
  },
  {
   "cell_type": "code",
   "execution_count": 34,
   "id": "8c49320d-69ab-4aa5-9336-f23afa560788",
   "metadata": {},
   "outputs": [
    {
     "data": {
      "text/html": [
       "<div>\n",
       "<style scoped>\n",
       "    .dataframe tbody tr th:only-of-type {\n",
       "        vertical-align: middle;\n",
       "    }\n",
       "\n",
       "    .dataframe tbody tr th {\n",
       "        vertical-align: top;\n",
       "    }\n",
       "\n",
       "    .dataframe thead th {\n",
       "        text-align: right;\n",
       "    }\n",
       "</style>\n",
       "<table border=\"1\" class=\"dataframe\">\n",
       "  <thead>\n",
       "    <tr style=\"text-align: right;\">\n",
       "      <th></th>\n",
       "      <th>gender</th>\n",
       "      <th>relevant_exp</th>\n",
       "      <th>enrolled_university</th>\n",
       "      <th>edu_level</th>\n",
       "      <th>major_discipline</th>\n",
       "    </tr>\n",
       "  </thead>\n",
       "  <tbody>\n",
       "    <tr>\n",
       "      <th>0</th>\n",
       "      <td>Male</td>\n",
       "      <td>Has</td>\n",
       "      <td>no_enrollment</td>\n",
       "      <td>Graduate</td>\n",
       "      <td>STEM</td>\n",
       "    </tr>\n",
       "    <tr>\n",
       "      <th>1</th>\n",
       "      <td>Male</td>\n",
       "      <td>Has</td>\n",
       "      <td>no_enrollment</td>\n",
       "      <td>Graduate</td>\n",
       "      <td>STEM</td>\n",
       "    </tr>\n",
       "  </tbody>\n",
       "</table>\n",
       "</div>"
      ],
      "text/plain": [
       "  gender relevant_exp enrolled_university edu_level major_discipline\n",
       "0   Male          Has       no_enrollment  Graduate             STEM\n",
       "1   Male          Has       no_enrollment  Graduate             STEM"
      ]
     },
     "execution_count": 34,
     "metadata": {},
     "output_type": "execute_result"
    }
   ],
   "source": [
    "df_q2_obj = df_base.iloc[:, [2, 3, 4, 5, 6]]\n",
    "df_q2_obj.head(2)"
   ]
  },
  {
   "cell_type": "code",
   "execution_count": 35,
   "id": "641fcab0-e5f4-42a2-9fe2-5ddf2547e2ab",
   "metadata": {},
   "outputs": [],
   "source": [
    "# df_q2_dum = pd.get_dummies(df_q2_obj, columns = df_q2_obj.columns.to_list()) # 시험버전\n",
    "df_q2_dum = pd.get_dummies(df_q2_obj, columns = df_q2_obj.columns.to_list(), dtype = \"int\") # 최신버전"
   ]
  },
  {
   "cell_type": "code",
   "execution_count": null,
   "id": "e9245408-9af0-4c89-8e53-d331945e86e7",
   "metadata": {},
   "outputs": [],
   "source": [
    "df_q2_dum.columns[[2, 4, 7, 10, 16]]"
   ]
  },
  {
   "cell_type": "code",
   "execution_count": 41,
   "id": "94b11096-ca2a-428d-8709-4f2490c302e0",
   "metadata": {},
   "outputs": [],
   "source": [
    "# pd.DataFrame(dict(c = df_q2_dum.columns))"
   ]
  },
  {
   "cell_type": "code",
   "execution_count": null,
   "id": "d9f3b514-f3b1-4732-bc53-703dfaaa9b3e",
   "metadata": {},
   "outputs": [],
   "source": [
    "df_q2_s2 = df_q2_dum.drop(columns = df_q2_dum.columns[[2, 4, 7, 10, 16]])\n",
    "df_q2_s2.head(1)"
   ]
  },
  {
   "cell_type": "code",
   "execution_count": 50,
   "id": "07a483ac-efaa-4ddc-90d2-8ad841e9e291",
   "metadata": {},
   "outputs": [
    {
     "data": {
      "text/html": [
       "<div>\n",
       "<style scoped>\n",
       "    .dataframe tbody tr th:only-of-type {\n",
       "        vertical-align: middle;\n",
       "    }\n",
       "\n",
       "    .dataframe tbody tr th {\n",
       "        vertical-align: top;\n",
       "    }\n",
       "\n",
       "    .dataframe thead th {\n",
       "        text-align: right;\n",
       "    }\n",
       "</style>\n",
       "<table border=\"1\" class=\"dataframe\">\n",
       "  <thead>\n",
       "    <tr style=\"text-align: right;\">\n",
       "      <th></th>\n",
       "      <th>target</th>\n",
       "      <th>Xgrp</th>\n",
       "      <th>city_development_index</th>\n",
       "      <th>exp</th>\n",
       "      <th>last_new_job</th>\n",
       "      <th>training_hours</th>\n",
       "      <th>gender_Female</th>\n",
       "      <th>gender_Male</th>\n",
       "      <th>relevant_exp_Has</th>\n",
       "      <th>enrolled_university_Full time course</th>\n",
       "      <th>enrolled_university_Part time course</th>\n",
       "      <th>edu_level_Graduate</th>\n",
       "      <th>edu_level_Masters</th>\n",
       "      <th>major_discipline_Arts</th>\n",
       "      <th>major_discipline_Business Degree</th>\n",
       "      <th>major_discipline_Humanities</th>\n",
       "      <th>major_discipline_No Major</th>\n",
       "      <th>major_discipline_Other</th>\n",
       "    </tr>\n",
       "  </thead>\n",
       "  <tbody>\n",
       "    <tr>\n",
       "      <th>0</th>\n",
       "      <td>1</td>\n",
       "      <td>train</td>\n",
       "      <td>0.92</td>\n",
       "      <td>7</td>\n",
       "      <td>1</td>\n",
       "      <td>46.0</td>\n",
       "      <td>0</td>\n",
       "      <td>1</td>\n",
       "      <td>1</td>\n",
       "      <td>0</td>\n",
       "      <td>0</td>\n",
       "      <td>1</td>\n",
       "      <td>0</td>\n",
       "      <td>0</td>\n",
       "      <td>0</td>\n",
       "      <td>0</td>\n",
       "      <td>0</td>\n",
       "      <td>0</td>\n",
       "    </tr>\n",
       "  </tbody>\n",
       "</table>\n",
       "</div>"
      ],
      "text/plain": [
       "   target   Xgrp  city_development_index  exp  last_new_job  training_hours  \\\n",
       "0       1  train                    0.92    7             1            46.0   \n",
       "\n",
       "   gender_Female  gender_Male  relevant_exp_Has  \\\n",
       "0              0            1                 1   \n",
       "\n",
       "   enrolled_university_Full time course  enrolled_university_Part time course  \\\n",
       "0                                     0                                     0   \n",
       "\n",
       "   edu_level_Graduate  edu_level_Masters  major_discipline_Arts  \\\n",
       "0                   1                  0                      0   \n",
       "\n",
       "   major_discipline_Business Degree  major_discipline_Humanities  \\\n",
       "0                                 0                            0   \n",
       "\n",
       "   major_discipline_No Major  major_discipline_Other  \n",
       "0                          0                       0  "
      ]
     },
     "execution_count": 50,
     "metadata": {},
     "output_type": "execute_result"
    }
   ],
   "source": [
    "ls_col_x = [\"city_development_index\", \"exp\", \"last_new_job\", \"training_hours\"]\n",
    "df_job2 = pd.concat([df_base[[\"target\", \"Xgrp\"] + ls_col_x], df_q2_s2], axis = 1)\n",
    "df_job2.head(1)"
   ]
  },
  {
   "cell_type": "code",
   "execution_count": null,
   "id": "8b8586d4-0847-4a3b-82c5-e8d6342bb0a2",
   "metadata": {},
   "outputs": [],
   "source": [
    "df_job2.shape"
   ]
  },
  {
   "cell_type": "code",
   "execution_count": null,
   "id": "3a213f09-0d46-46fa-8299-500e6ecaafa8",
   "metadata": {},
   "outputs": [],
   "source": [
    "model_lr = LogisticRegression(C = 100000, max_iter = 1000, solver = \"liblinear\",\n",
    "                              random_state = 1234, fit_intercept = True)\n",
    "model_lr.fit(X = df_job2.drop(columns = [\"target\", \"Xgrp\"]),\n",
    "             y = df_job2[\"target\"])"
   ]
  },
  {
   "cell_type": "code",
   "execution_count": null,
   "id": "8d69cd60-5128-4f6a-aaf0-bccb688ee954",
   "metadata": {},
   "outputs": [],
   "source": [
    "model_lr.coef_ # 회귀계수"
   ]
  },
  {
   "cell_type": "code",
   "execution_count": null,
   "id": "b07d0f09-1e02-47f3-b12b-36b597776762",
   "metadata": {},
   "outputs": [],
   "source": [
    "np.exp(model_lr.coef_) # 승산비(OR, Odds Ratio)"
   ]
  },
  {
   "cell_type": "code",
   "execution_count": 61,
   "id": "a5660c3f-9e7c-4848-9ca4-27b201e7d289",
   "metadata": {},
   "outputs": [
    {
     "data": {
      "text/plain": [
       "np.float64(1.6738948061770285)"
      ]
     },
     "execution_count": 61,
     "metadata": {},
     "output_type": "execute_result"
    }
   ],
   "source": [
    "np.exp(model_lr.coef_).max() # 1.67!!!"
   ]
  },
  {
   "cell_type": "code",
   "execution_count": 58,
   "id": "e91f0407-4404-495b-ba3a-fd56dd6f6d32",
   "metadata": {},
   "outputs": [
    {
     "data": {
      "text/html": [
       "<div>\n",
       "<style scoped>\n",
       "    .dataframe tbody tr th:only-of-type {\n",
       "        vertical-align: middle;\n",
       "    }\n",
       "\n",
       "    .dataframe tbody tr th {\n",
       "        vertical-align: top;\n",
       "    }\n",
       "\n",
       "    .dataframe thead th {\n",
       "        text-align: right;\n",
       "    }\n",
       "</style>\n",
       "<table border=\"1\" class=\"dataframe\">\n",
       "  <thead>\n",
       "    <tr style=\"text-align: right;\">\n",
       "      <th></th>\n",
       "      <th>city_development_index</th>\n",
       "      <th>exp</th>\n",
       "      <th>last_new_job</th>\n",
       "      <th>training_hours</th>\n",
       "      <th>gender_Female</th>\n",
       "      <th>gender_Male</th>\n",
       "      <th>relevant_exp_Has</th>\n",
       "      <th>enrolled_university_Full time course</th>\n",
       "      <th>enrolled_university_Part time course</th>\n",
       "      <th>edu_level_Graduate</th>\n",
       "      <th>edu_level_Masters</th>\n",
       "      <th>major_discipline_Arts</th>\n",
       "      <th>major_discipline_Business Degree</th>\n",
       "      <th>major_discipline_Humanities</th>\n",
       "      <th>major_discipline_No Major</th>\n",
       "      <th>major_discipline_Other</th>\n",
       "    </tr>\n",
       "  </thead>\n",
       "  <tbody>\n",
       "    <tr>\n",
       "      <th>0</th>\n",
       "      <td>0.002116</td>\n",
       "      <td>0.971941</td>\n",
       "      <td>1.099657</td>\n",
       "      <td>0.999068</td>\n",
       "      <td>0.842418</td>\n",
       "      <td>0.870245</td>\n",
       "      <td>0.463938</td>\n",
       "      <td>1.673895</td>\n",
       "      <td>0.75246</td>\n",
       "      <td>1.296251</td>\n",
       "      <td>0.95707</td>\n",
       "      <td>1.337853</td>\n",
       "      <td>1.124161</td>\n",
       "      <td>1.279196</td>\n",
       "      <td>1.502104</td>\n",
       "      <td>0.64428</td>\n",
       "    </tr>\n",
       "  </tbody>\n",
       "</table>\n",
       "</div>"
      ],
      "text/plain": [
       "   city_development_index       exp  last_new_job  training_hours  \\\n",
       "0                0.002116  0.971941      1.099657        0.999068   \n",
       "\n",
       "   gender_Female  gender_Male  relevant_exp_Has  \\\n",
       "0       0.842418     0.870245          0.463938   \n",
       "\n",
       "   enrolled_university_Full time course  enrolled_university_Part time course  \\\n",
       "0                              1.673895                               0.75246   \n",
       "\n",
       "   edu_level_Graduate  edu_level_Masters  major_discipline_Arts  \\\n",
       "0            1.296251            0.95707               1.337853   \n",
       "\n",
       "   major_discipline_Business Degree  major_discipline_Humanities  \\\n",
       "0                          1.124161                     1.279196   \n",
       "\n",
       "   major_discipline_No Major  major_discipline_Other  \n",
       "0                   1.502104                 0.64428  "
      ]
     },
     "execution_count": 58,
     "metadata": {},
     "output_type": "execute_result"
    }
   ],
   "source": [
    "df_or = pd.DataFrame(np.exp(model_lr.coef_), columns = df_job2.columns[2:])\n",
    "df_or"
   ]
  },
  {
   "cell_type": "markdown",
   "id": "d6c7e127-f694-4710-b50f-c8662330a3fd",
   "metadata": {},
   "source": [
    "### Q3. "
   ]
  },
  {
   "cell_type": "code",
   "execution_count": 63,
   "id": "9a34d39d-5a55-4850-945c-c3c203727a59",
   "metadata": {},
   "outputs": [
    {
     "data": {
      "text/plain": [
       "(4706, 2816)"
      ]
     },
     "execution_count": 63,
     "metadata": {},
     "output_type": "execute_result"
    }
   ],
   "source": [
    "df_train = df_job2.loc[df_job2[\"Xgrp\"] == \"train\", ]\n",
    "df_test  = df_job2.loc[df_job2[\"Xgrp\"] == \"test\", ]\n",
    "len(df_train), len(df_test) # 단계 1"
   ]
  },
  {
   "cell_type": "code",
   "execution_count": null,
   "id": "f60765f8-f729-474a-a8f7-10e51d17a555",
   "metadata": {},
   "outputs": [],
   "source": [
    "model_knn = KNeighborsClassifier(n_neighbors = 3)\n",
    "model_knn.fit(X = df_train.drop(columns = [\"target\", \"Xgrp\"]),\n",
    "              y = df_train[\"target\"])\n",
    "pred = model_knn.predict(df_test.drop(columns = [\"target\", \"Xgrp\"]))\n",
    "pred[:4] # 단계 3"
   ]
  },
  {
   "cell_type": "code",
   "execution_count": 71,
   "id": "fa6f3a16-24ca-4f3b-9f53-da286281ef4f",
   "metadata": {},
   "outputs": [],
   "source": [
    "y_t = df_test[\"target\"]\n",
    "y_p = pred"
   ]
  },
  {
   "cell_type": "code",
   "execution_count": null,
   "id": "647508f1-4ad9-4173-aff1-ea1b8698618b",
   "metadata": {},
   "outputs": [],
   "source": [
    "from sklearn.metrics import accuracy_score\n",
    "round(accuracy_score(y_true = y_t, y_pred = y_p), 2)"
   ]
  },
  {
   "cell_type": "code",
   "execution_count": null,
   "id": "82cc8061-23a3-45fc-a120-d81c1ce194f0",
   "metadata": {},
   "outputs": [],
   "source": [
    "df_tab = pd.crosstab(y_t, y_p)\n",
    "df_tab"
   ]
  },
  {
   "cell_type": "code",
   "execution_count": null,
   "id": "801255e0-57ea-4242-8b74-a274a8cc090e",
   "metadata": {},
   "outputs": [],
   "source": [
    "round((df_tab[0][0] + df_tab[1][1]) / df_tab.sum().sum(), 2)"
   ]
  },
  {
   "cell_type": "code",
   "execution_count": 87,
   "id": "43d5b3cb-ad0b-4fc9-baec-abf6d129802f",
   "metadata": {},
   "outputs": [
    {
     "data": {
      "text/plain": [
       "np.float64(0.69)"
      ]
     },
     "execution_count": 87,
     "metadata": {},
     "output_type": "execute_result"
    }
   ],
   "source": [
    "round(df_tab.values.diagonal().sum() / df_tab.values.sum(), 2) # 몰라도 됨."
   ]
  },
  {
   "cell_type": "code",
   "execution_count": null,
   "id": "379f0097-8bec-4d40-9671-4b3d4cd9d7a1",
   "metadata": {},
   "outputs": [],
   "source": []
  },
  {
   "cell_type": "code",
   "execution_count": null,
   "id": "2248f5be-5985-4a2b-87fd-009fef2a24e2",
   "metadata": {},
   "outputs": [],
   "source": []
  },
  {
   "cell_type": "code",
   "execution_count": null,
   "id": "837c17bf-8605-41ce-abf6-4280647c8664",
   "metadata": {},
   "outputs": [],
   "source": []
  },
  {
   "cell_type": "code",
   "execution_count": null,
   "id": "3a6803f5-2a9e-4ab0-abe7-892ee7e4aee8",
   "metadata": {},
   "outputs": [],
   "source": []
  },
  {
   "cell_type": "code",
   "execution_count": null,
   "id": "99a0071c-2032-4e55-ba87-83e8c6aa8856",
   "metadata": {},
   "outputs": [],
   "source": []
  },
  {
   "cell_type": "code",
   "execution_count": null,
   "id": "ed0c47a8-977c-48f9-ae2a-cf914a14e368",
   "metadata": {},
   "outputs": [],
   "source": []
  },
  {
   "cell_type": "code",
   "execution_count": null,
   "id": "404d563c-c13f-47f6-8b29-6188edc139a6",
   "metadata": {},
   "outputs": [],
   "source": []
  },
  {
   "cell_type": "code",
   "execution_count": null,
   "id": "680b72bf-7085-4a1c-9d8c-bf5e63baeed7",
   "metadata": {},
   "outputs": [],
   "source": []
  }
 ],
 "metadata": {
  "kernelspec": {
   "display_name": "Python 3 (ipykernel)",
   "language": "python",
   "name": "python3"
  },
  "language_info": {
   "codemirror_mode": {
    "name": "ipython",
    "version": 3
   },
   "file_extension": ".py",
   "mimetype": "text/x-python",
   "name": "python",
   "nbconvert_exporter": "python",
   "pygments_lexer": "ipython3",
   "version": "3.11.9"
  }
 },
 "nbformat": 4,
 "nbformat_minor": 5
}
