{
 "cells": [
  {
   "cell_type": "code",
   "execution_count": 1,
   "id": "a93f0c1b-d145-4045-a3aa-3b3685076111",
   "metadata": {},
   "outputs": [
    {
     "name": "stdout",
     "output_type": "stream",
     "text": [
      "numpy: 2.2.3\n",
      "pandas: 2.2.3\n",
      "scipy: 1.15.2\n",
      "scikit-learn: 1.6.1\n"
     ]
    }
   ],
   "source": [
    "import pkg_resources\n",
    "\n",
    "ls_libs = [\"numpy\", \"pandas\", \"scipy\", \"scikit-learn\"]\n",
    "for n_lib in ls_libs:\n",
    "    vak_ver = pkg_resources.get_distribution(n_lib).version\n",
    "    print(f\"{n_lib}: {vak_ver}\")"
   ]
  },
  {
   "cell_type": "code",
   "execution_count": 2,
   "id": "31c204a9-d021-4628-98b5-56d1bec2e837",
   "metadata": {},
   "outputs": [],
   "source": [
    "import pandas as pd\n",
    "import numpy as np\n",
    "\n",
    "from sklearn.preprocessing import MinMaxScaler\n",
    "from sklearn.preprocessing import StandardScaler\n",
    "from sklearn.model_selection import train_test_split\n",
    "from sklearn.cluster import KMeans\n",
    "from sklearn.metrics.pairwise import euclidean_distances\n",
    "from sklearn.neighbors import KNeighborsRegressor\n",
    "from sklearn.metrics import mean_squared_error"
   ]
  },
  {
   "attachments": {},
   "cell_type": "markdown",
   "id": "75365e3c-cde6-4411-abfa-393b4f9f9564",
   "metadata": {},
   "source": [
    "### Q1. "
   ]
  },
  {
   "cell_type": "code",
   "execution_count": null,
   "id": "f079a044-501c-40f3-b4ef-9ca8165b7080",
   "metadata": {},
   "outputs": [],
   "source": [
    "df = pd.read_csv(\"set_03_data.csv\")\n",
    "df.head(1)"
   ]
  },
  {
   "cell_type": "code",
   "execution_count": null,
   "id": "cf080b78-f34e-4a54-9248-9d057a88cc47",
   "metadata": {},
   "outputs": [],
   "source": [
    "stat_mean = df[\"sales_idx\"].mean()\n",
    "stat_std = df[\"sales_idx\"].std()\n",
    "stat_mean, stat_std"
   ]
  },
  {
   "cell_type": "code",
   "execution_count": null,
   "id": "ae9a90bd-935e-4b93-b2c7-6e63736143d7",
   "metadata": {},
   "outputs": [],
   "source": [
    "stat_out = stat_mean + 2 * stat_std\n",
    "stat_out"
   ]
  },
  {
   "cell_type": "code",
   "execution_count": null,
   "id": "ec62f8cf-7225-44bc-b39f-147c578f5eae",
   "metadata": {},
   "outputs": [],
   "source": [
    "df_q1 = df.loc[df[\"sales_idx\"] > stat_out, ]\n",
    "len(df_q1)"
   ]
  },
  {
   "cell_type": "code",
   "execution_count": null,
   "id": "09fc70f7-a39d-4bfd-a4af-5b43a0706835",
   "metadata": {},
   "outputs": [],
   "source": [
    "df_q1[\"idx\"] = (df_q1[\"ROM\"] / 32) + (df_q1[\"RAM\"] / 2) + (df_q1[\"n_front_cam\"] + df_q1[\"n_rear_cam\"]) + \\\n",
    "(df_q1[\"battery_c\"] / 1000)"
   ]
  },
  {
   "cell_type": "code",
   "execution_count": 15,
   "id": "16b1d861-3a79-4a19-b71a-5d3b1ea2e9f1",
   "metadata": {},
   "outputs": [
    {
     "data": {
      "text/plain": [
       "np.float64(11.01)"
      ]
     },
     "execution_count": 15,
     "metadata": {},
     "output_type": "execute_result"
    }
   ],
   "source": [
    "round(df_q1[\"idx\"].mean(), 2)"
   ]
  },
  {
   "cell_type": "code",
   "execution_count": null,
   "id": "0643f0d7-e6bf-449a-a7b2-c521b5ec51a6",
   "metadata": {},
   "outputs": [],
   "source": []
  },
  {
   "attachments": {},
   "cell_type": "markdown",
   "id": "b62eb4b5-9987-48ad-990f-e5c8fdc20ea5",
   "metadata": {},
   "source": [
    "### Q2."
   ]
  },
  {
   "cell_type": "code",
   "execution_count": null,
   "id": "d5a1abc4-ee48-4588-ab1a-4481c0d4dc45",
   "metadata": {},
   "outputs": [],
   "source": [
    "df = pd.read_csv(\"set_03_data.csv\")\n",
    "df.head(2)"
   ]
  },
  {
   "cell_type": "code",
   "execution_count": null,
   "id": "7caa855d-80af-4020-a95b-98dbafa7c8f0",
   "metadata": {},
   "outputs": [],
   "source": [
    "df_q2 = df.drop(columns = \"screen_size\")\n",
    "df_q2.head(1)"
   ]
  },
  {
   "cell_type": "code",
   "execution_count": null,
   "id": "607ab33c-04eb-4474-a228-0f6accc60839",
   "metadata": {},
   "outputs": [],
   "source": [
    "arr_q2_nor = StandardScaler().fit_transform(df_q2)\n",
    "arr_q2_nor[:1, ]"
   ]
  },
  {
   "cell_type": "code",
   "execution_count": null,
   "id": "9223911e-1e79-4fa0-8e98-cad68447c57e",
   "metadata": {},
   "outputs": [],
   "source": [
    "model_kmeans = KMeans(n_clusters = 4, random_state = 123)\n",
    "model_kmeans.fit(arr_q2_nor)"
   ]
  },
  {
   "cell_type": "code",
   "execution_count": null,
   "id": "8f240b9b-0438-4a78-a890-890ccfdb816a",
   "metadata": {},
   "outputs": [],
   "source": [
    "df_c = pd.DataFrame(model_kmeans.cluster_centers_, columns = df_q2.columns)\n",
    "df_c"
   ]
  },
  {
   "cell_type": "code",
   "execution_count": null,
   "id": "dd653184-11f1-4c70-b0aa-5ea07ce3f1a4",
   "metadata": {},
   "outputs": [],
   "source": [
    "val_c_max = df_c[\"battery_c\"].idxmax()\n",
    "val_c_max"
   ]
  },
  {
   "cell_type": "code",
   "execution_count": null,
   "id": "799f5a20-70f1-43bb-aa9b-1bf068359d8e",
   "metadata": {},
   "outputs": [],
   "source": [
    "arr_dist = euclidean_distances(df_c)\n",
    "arr_dist"
   ]
  },
  {
   "cell_type": "code",
   "execution_count": 34,
   "id": "aeb34cb0-2c61-47c0-b88a-550e8a0a7eaf",
   "metadata": {},
   "outputs": [
    {
     "data": {
      "text/plain": [
       "np.float64(2.66)"
      ]
     },
     "execution_count": 34,
     "metadata": {},
     "output_type": "execute_result"
    }
   ],
   "source": [
    "round(arr_dist[0, 1:].min(), 2)"
   ]
  },
  {
   "cell_type": "code",
   "execution_count": null,
   "id": "a5a9a16f-039a-4322-93e8-6768009e1c70",
   "metadata": {},
   "outputs": [],
   "source": [
    "ser_0 = df_c.iloc[0, ]\n",
    "ser_3 = df_c.iloc[3, ]"
   ]
  },
  {
   "cell_type": "code",
   "execution_count": 44,
   "id": "426f45ee-205c-41ed-a455-331d2d62512e",
   "metadata": {},
   "outputs": [
    {
     "data": {
      "text/plain": [
       "np.float64(2.66)"
      ]
     },
     "execution_count": 44,
     "metadata": {},
     "output_type": "execute_result"
    }
   ],
   "source": [
    "round(((ser_0 - ser_3) ** 2).sum() ** 0.5, 2)"
   ]
  },
  {
   "cell_type": "code",
   "execution_count": null,
   "id": "3af0c153-b051-4fd8-88fa-fcdcdb2f8483",
   "metadata": {},
   "outputs": [],
   "source": []
  },
  {
   "attachments": {},
   "cell_type": "markdown",
   "id": "fe9e602f-13f0-48ab-a072-d85d3b64db24",
   "metadata": {},
   "source": [
    "### Q3."
   ]
  },
  {
   "cell_type": "code",
   "execution_count": 45,
   "id": "dc062c72-b8d2-49f8-84cf-934e935264c6",
   "metadata": {},
   "outputs": [
    {
     "data": {
      "text/html": [
       "<div>\n",
       "<style scoped>\n",
       "    .dataframe tbody tr th:only-of-type {\n",
       "        vertical-align: middle;\n",
       "    }\n",
       "\n",
       "    .dataframe tbody tr th {\n",
       "        vertical-align: top;\n",
       "    }\n",
       "\n",
       "    .dataframe thead th {\n",
       "        text-align: right;\n",
       "    }\n",
       "</style>\n",
       "<table border=\"1\" class=\"dataframe\">\n",
       "  <thead>\n",
       "    <tr style=\"text-align: right;\">\n",
       "      <th></th>\n",
       "      <th>screen_size</th>\n",
       "      <th>ROM</th>\n",
       "      <th>RAM</th>\n",
       "      <th>n_rear_cam</th>\n",
       "      <th>n_front_cam</th>\n",
       "      <th>battery_c</th>\n",
       "      <th>ratings</th>\n",
       "      <th>n_ratings</th>\n",
       "      <th>sales_p</th>\n",
       "      <th>discount_p</th>\n",
       "      <th>sales_idx</th>\n",
       "    </tr>\n",
       "  </thead>\n",
       "  <tbody>\n",
       "    <tr>\n",
       "      <th>0</th>\n",
       "      <td>Very Small</td>\n",
       "      <td>64</td>\n",
       "      <td>2</td>\n",
       "      <td>1</td>\n",
       "      <td>1</td>\n",
       "      <td>1800</td>\n",
       "      <td>4.5</td>\n",
       "      <td>38645</td>\n",
       "      <td>32999</td>\n",
       "      <td>0.17</td>\n",
       "      <td>127.52</td>\n",
       "    </tr>\n",
       "    <tr>\n",
       "      <th>1</th>\n",
       "      <td>Small</td>\n",
       "      <td>64</td>\n",
       "      <td>4</td>\n",
       "      <td>2</td>\n",
       "      <td>1</td>\n",
       "      <td>2815</td>\n",
       "      <td>4.5</td>\n",
       "      <td>244</td>\n",
       "      <td>57149</td>\n",
       "      <td>0.04</td>\n",
       "      <td>1.39</td>\n",
       "    </tr>\n",
       "  </tbody>\n",
       "</table>\n",
       "</div>"
      ],
      "text/plain": [
       "  screen_size  ROM  RAM  n_rear_cam  n_front_cam  battery_c  ratings  \\\n",
       "0  Very Small   64    2           1            1       1800      4.5   \n",
       "1       Small   64    4           2            1       2815      4.5   \n",
       "\n",
       "   n_ratings  sales_p  discount_p  sales_idx  \n",
       "0      38645    32999        0.17     127.52  \n",
       "1        244    57149        0.04       1.39  "
      ]
     },
     "execution_count": 45,
     "metadata": {},
     "output_type": "execute_result"
    }
   ],
   "source": [
    "df = pd.read_csv(\"set_03_data.csv\")\n",
    "df.head(2)"
   ]
  },
  {
   "cell_type": "markdown",
   "id": "f78b680d-c3db-4c9a-8cf3-4ed23198d1c2",
   "metadata": {},
   "source": [
    "`pd.get_dummies()`는 다른 메서드/함수/클래스와 다르게 \"columns\" 인자에 단일 값을 할당하는 경우에도 반드시 🌟**리스트**🌟 객체를 사용하여 할당해야 한다. 단순 문자열을 할당할 경우 에러가 난다.\n",
    "\n",
    "그리고 원핫인코딩을 실시할 때 변수명에 띄어쓰기가 있을 수 있는데 `statsmodels` 라이브러리 기반 모델링을 하면서 formula 를 사용하는 경우 변수명에 띄어쓰기를 제거하지 않은 채로 formula를 작성하면 반드시 에러가 발생함. 그리고 이 이슈는 이전 시험에서 응시자가 어려움을 겪은 사례가 있음.  \n",
    "※ 다음의 코드 결과에서는 \"screen_size_Very Large\"  \n",
    "※ \"screen_size_Very Large\" -> \"screen_size_Very_Large\""
   ]
  },
  {
   "cell_type": "code",
   "execution_count": 50,
   "id": "7b195a12-2a97-44a5-92d4-577527c15aef",
   "metadata": {},
   "outputs": [
    {
     "data": {
      "text/html": [
       "<div>\n",
       "<style scoped>\n",
       "    .dataframe tbody tr th:only-of-type {\n",
       "        vertical-align: middle;\n",
       "    }\n",
       "\n",
       "    .dataframe tbody tr th {\n",
       "        vertical-align: top;\n",
       "    }\n",
       "\n",
       "    .dataframe thead th {\n",
       "        text-align: right;\n",
       "    }\n",
       "</style>\n",
       "<table border=\"1\" class=\"dataframe\">\n",
       "  <thead>\n",
       "    <tr style=\"text-align: right;\">\n",
       "      <th></th>\n",
       "      <th>sales_idx</th>\n",
       "      <th>ROM</th>\n",
       "      <th>RAM</th>\n",
       "      <th>n_rear_cam</th>\n",
       "      <th>n_front_cam</th>\n",
       "      <th>battery_c</th>\n",
       "      <th>ratings</th>\n",
       "      <th>n_ratings</th>\n",
       "      <th>sales_p</th>\n",
       "      <th>discount_p</th>\n",
       "      <th>screen_size_Large</th>\n",
       "      <th>screen_size_Medium</th>\n",
       "      <th>screen_size_Small</th>\n",
       "      <th>screen_size_Very Large</th>\n",
       "      <th>screen_size_Very Small</th>\n",
       "    </tr>\n",
       "  </thead>\n",
       "  <tbody>\n",
       "    <tr>\n",
       "      <th>0</th>\n",
       "      <td>127.52</td>\n",
       "      <td>64</td>\n",
       "      <td>2</td>\n",
       "      <td>1</td>\n",
       "      <td>1</td>\n",
       "      <td>1800</td>\n",
       "      <td>4.5</td>\n",
       "      <td>38645</td>\n",
       "      <td>32999</td>\n",
       "      <td>0.17</td>\n",
       "      <td>0</td>\n",
       "      <td>0</td>\n",
       "      <td>0</td>\n",
       "      <td>0</td>\n",
       "      <td>1</td>\n",
       "    </tr>\n",
       "    <tr>\n",
       "      <th>1</th>\n",
       "      <td>1.39</td>\n",
       "      <td>64</td>\n",
       "      <td>4</td>\n",
       "      <td>2</td>\n",
       "      <td>1</td>\n",
       "      <td>2815</td>\n",
       "      <td>4.5</td>\n",
       "      <td>244</td>\n",
       "      <td>57149</td>\n",
       "      <td>0.04</td>\n",
       "      <td>0</td>\n",
       "      <td>0</td>\n",
       "      <td>1</td>\n",
       "      <td>0</td>\n",
       "      <td>0</td>\n",
       "    </tr>\n",
       "  </tbody>\n",
       "</table>\n",
       "</div>"
      ],
      "text/plain": [
       "   sales_idx  ROM  RAM  n_rear_cam  n_front_cam  battery_c  ratings  \\\n",
       "0     127.52   64    2           1            1       1800      4.5   \n",
       "1       1.39   64    4           2            1       2815      4.5   \n",
       "\n",
       "   n_ratings  sales_p  discount_p  screen_size_Large  screen_size_Medium  \\\n",
       "0      38645    32999        0.17                  0                   0   \n",
       "1        244    57149        0.04                  0                   0   \n",
       "\n",
       "   screen_size_Small  screen_size_Very Large  screen_size_Very Small  \n",
       "0                  0                       0                       1  \n",
       "1                  1                       0                       0  "
      ]
     },
     "execution_count": 50,
     "metadata": {},
     "output_type": "execute_result"
    }
   ],
   "source": [
    "# df_dum = pd.get_dummies(df, columns = [\"screen_size\"]) # 시험버전\n",
    "df_dum = pd.get_dummies(df, columns = [\"screen_size\"], dtype = \"int\") # 최신버전\n",
    "df_dum = df_dum.set_index(\"sales_idx\").reset_index() # 필수 아님.\n",
    "df_dum.head(2)"
   ]
  },
  {
   "cell_type": "code",
   "execution_count": 52,
   "id": "de1a0278-95fd-43db-ae86-e6303f425802",
   "metadata": {},
   "outputs": [
    {
     "data": {
      "text/plain": [
       "(344, 86)"
      ]
     },
     "execution_count": 52,
     "metadata": {},
     "output_type": "execute_result"
    }
   ],
   "source": [
    "df_train, df_test = train_test_split(df_dum, train_size = 0.8, random_state = 123)\n",
    "len(df_train), len(df_test)"
   ]
  },
  {
   "cell_type": "code",
   "execution_count": 53,
   "id": "b7f64cc7-f372-4bc7-b899-ea39f855d9bf",
   "metadata": {},
   "outputs": [],
   "source": [
    "model_nor = MinMaxScaler().fit(df_train)\n",
    "arr_train_nor = model_nor.transform(df_train)\n",
    "arr_test_nor = model_nor.transform(df_test)"
   ]
  },
  {
   "cell_type": "code",
   "execution_count": null,
   "id": "b557650c-5876-41ae-8d09-23ed832b509f",
   "metadata": {},
   "outputs": [],
   "source": [
    "arr_train_nor[:1, ]"
   ]
  },
  {
   "cell_type": "code",
   "execution_count": null,
   "id": "1cf953a8-a062-4b4f-9ab6-d3b728601cd2",
   "metadata": {},
   "outputs": [],
   "source": [
    "df_train_nor = pd.DataFrame(arr_train_nor, columns = df_train.columns)\n",
    "df_train_nor.head(2)"
   ]
  },
  {
   "cell_type": "code",
   "execution_count": null,
   "id": "b47e59ae-1a8b-4344-95e7-0e5d1168ce6b",
   "metadata": {},
   "outputs": [],
   "source": [
    "df_minmax = pd.DataFrame([model_nor.data_max_, \n",
    "                          model_nor.data_min_],\n",
    "                         columns = df_train.columns,\n",
    "                         index = [\"max\", \"min\"])\n",
    "df_minmax"
   ]
  },
  {
   "cell_type": "code",
   "execution_count": null,
   "id": "2d1ade2e-38f2-470f-8cd3-2dfecd756d26",
   "metadata": {},
   "outputs": [],
   "source": [
    "df_train.agg([\"max\", \"min\"])"
   ]
  },
  {
   "cell_type": "code",
   "execution_count": null,
   "id": "3704eb4d-7010-4337-a23a-aceddb246e2b",
   "metadata": {},
   "outputs": [],
   "source": [
    "ls_k = [3, 5, 7, 9, 11]\n",
    "k = ls_k[0]\n",
    "\n",
    "model_knn = KNeighborsRegressor(n_neighbors = k)\n",
    "model_knn.fit(X = arr_train_nor[:, 1:], # 종속변수가 첫 번째 변수에 있기 때문⭐\n",
    "              y = arr_train_nor[:, 0]) \n",
    "pred = model_knn.predict(arr_test_nor[:, 1:])\n",
    "mean_squared_error(y_true = arr_test_nor[:, 0], y_pred = pred) ** 0.5"
   ]
  },
  {
   "cell_type": "code",
   "execution_count": 66,
   "id": "8407da90-3674-4758-a3d5-5c8c7be7e1ab",
   "metadata": {},
   "outputs": [],
   "source": [
    "ls_k = [3, 5, 7, 9, 11]\n",
    "ls_rmse = []\n",
    "for k in ls_k:\n",
    "    model_knn = KNeighborsRegressor(n_neighbors = k)\n",
    "    model_knn.fit(X = arr_train_nor[:, 1:], # 종속변수가 첫 번째 변수에 있기 때문⭐\n",
    "                  y = arr_train_nor[:, 0]) \n",
    "    pred = model_knn.predict(arr_test_nor[:, 1:])\n",
    "    val_rmse = mean_squared_error(y_true = arr_test_nor[:, 0], y_pred = pred) ** 0.5\n",
    "    ls_rmse = ls_rmse + [val_rmse]"
   ]
  },
  {
   "cell_type": "code",
   "execution_count": 70,
   "id": "74a54f36-4845-44b4-9c3d-90ece6a4c702",
   "metadata": {},
   "outputs": [
    {
     "data": {
      "text/plain": [
       "np.int64(3)"
      ]
     },
     "execution_count": 70,
     "metadata": {},
     "output_type": "execute_result"
    }
   ],
   "source": [
    "ser_rmse = pd.Series(ls_rmse, index = ls_k) # 굳이 Series 객체 쓸 필요 없음. 반복문도 마찬가지.\n",
    "val_k_best = ser_rmse.idxmin()\n",
    "val_k_best"
   ]
  },
  {
   "cell_type": "code",
   "execution_count": 71,
   "id": "e0a5c2e2-7b39-42fa-8436-a30f83950d69",
   "metadata": {},
   "outputs": [
    {
     "data": {
      "text/plain": [
       "11"
      ]
     },
     "execution_count": 71,
     "metadata": {},
     "output_type": "execute_result"
    }
   ],
   "source": [
    "model_knn.n_neighbors"
   ]
  },
  {
   "cell_type": "code",
   "execution_count": null,
   "id": "91219378-6ae6-4e12-9042-ee920efca1cd",
   "metadata": {},
   "outputs": [],
   "source": [
    "model_knn_best = KNeighborsRegressor(n_neighbors = val_k_best)\n",
    "model_knn_best.fit(X = arr_train_nor[:, 1:], \n",
    "                   y = arr_train_nor[:, 0]) "
   ]
  },
  {
   "cell_type": "code",
   "execution_count": null,
   "id": "34bc6089-712a-40bd-9f51-7eda9170c290",
   "metadata": {},
   "outputs": [],
   "source": [
    "df_t1 = pd.DataFrame(dict(ROM = [256], RAM = [6])) # ...\n",
    "df_t1"
   ]
  },
  {
   "cell_type": "code",
   "execution_count": 77,
   "id": "71ba0041-8afb-4b17-9de8-6e76b207987c",
   "metadata": {},
   "outputs": [],
   "source": [
    "df_t1 = df_test.head(1).reset_index(drop = True)\n",
    "df_t1[\"ROM\"] = 256\n",
    "df_t1[\"RAM\"] = 6\n",
    "df_t1[\"n_rear_cam\"] = 4\n",
    "df_t1[\"n_front_cam\"] = 1\n",
    "df_t1[\"battery_c\"] = 4000\n",
    "df_t1[\"ratings\"] = 4.3\n",
    "df_t1[\"n_ratings\"] = 25000\n",
    "df_t1[\"sales_p\"] = 85000\n",
    "df_t1[\"discount_p\"] = 0.05\n",
    "df_t1[\"screen_size_Large\"] = 1\n",
    "df_t1[\"screen_size_Medium\"] = 0"
   ]
  },
  {
   "cell_type": "code",
   "execution_count": null,
   "id": "7b0c7a81-7ed1-4583-889d-4b4cdbbb9c78",
   "metadata": {},
   "outputs": [],
   "source": [
    "df_t1 # 단계 6"
   ]
  },
  {
   "cell_type": "code",
   "execution_count": 84,
   "id": "ee182324-3016-4846-b689-d460d621a6a4",
   "metadata": {},
   "outputs": [
    {
     "data": {
      "text/plain": [
       "array([[0.0119438 , 0.49206349, 0.45454545, 1.        , 0.        ,\n",
       "        0.42307692, 0.625     , 0.05308122, 0.51815842, 0.09302326,\n",
       "        1.        , 0.        , 0.        , 0.        , 0.        ]])"
      ]
     },
     "execution_count": 84,
     "metadata": {},
     "output_type": "execute_result"
    }
   ],
   "source": [
    "# model_nor.transform(df_t1.drop(columns = \"sales_idx\"))\n",
    "arr_t1_nor = model_nor.transform(df_t1) # 단계 7\n",
    "arr_t1_nor"
   ]
  },
  {
   "cell_type": "code",
   "execution_count": 86,
   "id": "918b96fc-2e76-4c08-8014-9327fc412be4",
   "metadata": {},
   "outputs": [
    {
     "data": {
      "text/plain": [
       "array([0.00132259])"
      ]
     },
     "execution_count": 86,
     "metadata": {},
     "output_type": "execute_result"
    }
   ],
   "source": [
    "pred_t1 = model_knn_best.predict(arr_t1_nor[:, 1:]) # 첫번째 변수는 sales_idx이기 때문에 제외\n",
    "pred_t1 # 단계 8"
   ]
  },
  {
   "cell_type": "code",
   "execution_count": 90,
   "id": "ee8806c3-c83d-4eac-82d6-657ce0fed9d3",
   "metadata": {},
   "outputs": [],
   "source": [
    "# model_nor.inverse_transform(pred_t1)\n",
    "# model_nor.inverse_transform([pred_t1])\n",
    "# model_nor.inverse_transform([pred_t1, 0, 0, 0, 0, 0, 0, 0, 0, 0, 0, 0, 0, 0, 0])"
   ]
  },
  {
   "cell_type": "code",
   "execution_count": null,
   "id": "89202216-502f-4963-bcf0-164b92472204",
   "metadata": {},
   "outputs": [],
   "source": [
    "arr_t1_nor[0, 0] = pred_t1"
   ]
  },
  {
   "cell_type": "code",
   "execution_count": 94,
   "id": "ab16751f-3780-4fd6-bf0a-a3d430d47d9d",
   "metadata": {},
   "outputs": [
    {
     "data": {
      "text/html": [
       "<div>\n",
       "<style scoped>\n",
       "    .dataframe tbody tr th:only-of-type {\n",
       "        vertical-align: middle;\n",
       "    }\n",
       "\n",
       "    .dataframe tbody tr th {\n",
       "        vertical-align: top;\n",
       "    }\n",
       "\n",
       "    .dataframe thead th {\n",
       "        text-align: right;\n",
       "    }\n",
       "</style>\n",
       "<table border=\"1\" class=\"dataframe\">\n",
       "  <thead>\n",
       "    <tr style=\"text-align: right;\">\n",
       "      <th></th>\n",
       "      <th>sales_idx</th>\n",
       "      <th>ROM</th>\n",
       "      <th>RAM</th>\n",
       "      <th>n_rear_cam</th>\n",
       "      <th>n_front_cam</th>\n",
       "      <th>battery_c</th>\n",
       "      <th>ratings</th>\n",
       "      <th>n_ratings</th>\n",
       "      <th>sales_p</th>\n",
       "      <th>discount_p</th>\n",
       "      <th>screen_size_Large</th>\n",
       "      <th>screen_size_Medium</th>\n",
       "      <th>screen_size_Small</th>\n",
       "      <th>screen_size_Very Large</th>\n",
       "      <th>screen_size_Very Small</th>\n",
       "    </tr>\n",
       "  </thead>\n",
       "  <tbody>\n",
       "    <tr>\n",
       "      <th>0</th>\n",
       "      <td>0.653333</td>\n",
       "      <td>256.0</td>\n",
       "      <td>6.0</td>\n",
       "      <td>4.0</td>\n",
       "      <td>1.0</td>\n",
       "      <td>4000.0</td>\n",
       "      <td>4.3</td>\n",
       "      <td>25000.0</td>\n",
       "      <td>85000.0</td>\n",
       "      <td>0.05</td>\n",
       "      <td>1.0</td>\n",
       "      <td>0.0</td>\n",
       "      <td>0.0</td>\n",
       "      <td>0.0</td>\n",
       "      <td>0.0</td>\n",
       "    </tr>\n",
       "  </tbody>\n",
       "</table>\n",
       "</div>"
      ],
      "text/plain": [
       "   sales_idx    ROM  RAM  n_rear_cam  n_front_cam  battery_c  ratings  \\\n",
       "0   0.653333  256.0  6.0         4.0          1.0     4000.0      4.3   \n",
       "\n",
       "   n_ratings  sales_p  discount_p  screen_size_Large  screen_size_Medium  \\\n",
       "0    25000.0  85000.0        0.05                1.0                 0.0   \n",
       "\n",
       "   screen_size_Small  screen_size_Very Large  screen_size_Very Small  \n",
       "0                0.0                     0.0                     0.0  "
      ]
     },
     "execution_count": 94,
     "metadata": {},
     "output_type": "execute_result"
    }
   ],
   "source": [
    "arr_t1_inv = model_nor.inverse_transform(arr_t1_nor)\n",
    "df_t1_inv = pd.DataFrame(arr_t1_inv, columns = df_t1.columns)\n",
    "df_t1_inv # 0.65 !!!"
   ]
  },
  {
   "cell_type": "code",
   "execution_count": 95,
   "id": "f7c70229-79f6-4757-a8a3-0828e0d26ac4",
   "metadata": {},
   "outputs": [
    {
     "data": {
      "text/html": [
       "<div>\n",
       "<style scoped>\n",
       "    .dataframe tbody tr th:only-of-type {\n",
       "        vertical-align: middle;\n",
       "    }\n",
       "\n",
       "    .dataframe tbody tr th {\n",
       "        vertical-align: top;\n",
       "    }\n",
       "\n",
       "    .dataframe thead th {\n",
       "        text-align: right;\n",
       "    }\n",
       "</style>\n",
       "<table border=\"1\" class=\"dataframe\">\n",
       "  <thead>\n",
       "    <tr style=\"text-align: right;\">\n",
       "      <th></th>\n",
       "      <th>sales_idx</th>\n",
       "      <th>ROM</th>\n",
       "      <th>RAM</th>\n",
       "      <th>n_rear_cam</th>\n",
       "      <th>n_front_cam</th>\n",
       "      <th>battery_c</th>\n",
       "      <th>ratings</th>\n",
       "      <th>n_ratings</th>\n",
       "      <th>sales_p</th>\n",
       "      <th>discount_p</th>\n",
       "      <th>screen_size_Large</th>\n",
       "      <th>screen_size_Medium</th>\n",
       "      <th>screen_size_Small</th>\n",
       "      <th>screen_size_Very Large</th>\n",
       "      <th>screen_size_Very Small</th>\n",
       "    </tr>\n",
       "  </thead>\n",
       "  <tbody>\n",
       "    <tr>\n",
       "      <th>0</th>\n",
       "      <td>5.9</td>\n",
       "      <td>256</td>\n",
       "      <td>6</td>\n",
       "      <td>4</td>\n",
       "      <td>1</td>\n",
       "      <td>4000</td>\n",
       "      <td>4.3</td>\n",
       "      <td>25000</td>\n",
       "      <td>85000</td>\n",
       "      <td>0.05</td>\n",
       "      <td>1</td>\n",
       "      <td>0</td>\n",
       "      <td>0</td>\n",
       "      <td>0</td>\n",
       "      <td>0</td>\n",
       "    </tr>\n",
       "  </tbody>\n",
       "</table>\n",
       "</div>"
      ],
      "text/plain": [
       "   sales_idx  ROM  RAM  n_rear_cam  n_front_cam  battery_c  ratings  \\\n",
       "0        5.9  256    6           4            1       4000      4.3   \n",
       "\n",
       "   n_ratings  sales_p  discount_p  screen_size_Large  screen_size_Medium  \\\n",
       "0      25000    85000        0.05                  1                   0   \n",
       "\n",
       "   screen_size_Small  screen_size_Very Large  screen_size_Very Small  \n",
       "0                  0                       0                       0  "
      ]
     },
     "execution_count": 95,
     "metadata": {},
     "output_type": "execute_result"
    }
   ],
   "source": [
    "df_t1"
   ]
  },
  {
   "cell_type": "code",
   "execution_count": null,
   "id": "42c28d69-10b8-4198-ba87-0595b4fcc429",
   "metadata": {},
   "outputs": [],
   "source": []
  },
  {
   "cell_type": "code",
   "execution_count": null,
   "id": "08968617-0f0b-41e6-bf24-b6054a3d9109",
   "metadata": {},
   "outputs": [],
   "source": []
  }
 ],
 "metadata": {
  "kernelspec": {
   "display_name": "Python 3 (ipykernel)",
   "language": "python",
   "name": "python3"
  },
  "language_info": {
   "codemirror_mode": {
    "name": "ipython",
    "version": 3
   },
   "file_extension": ".py",
   "mimetype": "text/x-python",
   "name": "python",
   "nbconvert_exporter": "python",
   "pygments_lexer": "ipython3",
   "version": "3.11.9"
  }
 },
 "nbformat": 4,
 "nbformat_minor": 5
}
